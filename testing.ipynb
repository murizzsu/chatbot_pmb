{
 "cells": [
  {
   "cell_type": "code",
   "execution_count": 158,
   "metadata": {},
   "outputs": [],
   "source": [
    "data_uji = [\"Bagaimana proses pendaftaran untuk kuliah disini\", \"Apa persyaratan yang harus dipenuhi untuk mendaftar sebagai mahasiswa baru?\", \"Bagaimana proses pendaftaran kuliah di ummi?\", \"Bagaimana cara mendapatkan informasi lebih lanjut tentang proses pendaftaran kuliah di ummi?\",\"Apakah ada batas waktu pendaftaran untuk kuliah di ummi?\", \"Bagaimana cara melakukan pembayaran perkuliahan di UMMI?\", \"Apa saja metode pembayaran yang tersedia untuk pembayaran perkuliahan di UMMI?\", \"Apakah bisa melakukan pembayaran melalui bank BSI? Bagaimana caranya?\", \"Bagaimana cara pembayaran perkuliahan menggunakan metode transfer bank di UMMI?\",\n",
    "\"Apakah di UMMI menyediakan pembayaran angsuran untuk perkuliahan?\", \"Apa saja persyaratan untuk melakukan perpindahan prodi di UMMI?\", \"Bagaimana tahapan untuk melakukan perpindahan program studi?\",\"Selain pindah program studi apakah juga bisa pindah fakultas?\", \"Apakah ada batasan waktu atau semester tertentu untuk melakukan perpindahan prodi/kampus di UMMI?\", \"Syarat apa saja yang diperlukan agar bisa pindah kampus?\", \"Bagaimana cara mengajukan beasiswa di UMMI?\", \"Apa saja jenis beasiswa yang tersedia di UMMI?\", \"Bagaimana cara mengajukan Beasiswa KIP di UMMI dan apa persyaratannya?\", \"Apakah ada beasiswa khusus untuk mahasiswa yang berasal dari latar belakang ekonomi kurang mampu, seperti Beasiswa KIP (Kartu Indonesia Pintar)?\", \"Kalo dapet beasiswa dapet potongannya berapa?\", \"kak kalau misalnya udah ditahap menunggu ujian masih bisa ganti prodi gak kak?\",\"saya dapat nilai ujian terbesar di sekolah, apakah bisa mengajukan beasiswa?\", \"bagaimana cara melakukan pembayaran lewat BCA\", \"bagaimana cara melakukan pembayaran?\",\"bagaimana cara melakukan pendaftaran?\", \"penyetaraan jurusannya apa saja?\", \"bagaimana cara melakukan transfer bank BNI?\", \"kan di ummi ada beasiswa non akademik kriterianya apa saja?\", \"kak pembayaran melalui bank BCA gimana caranya?\", \"kalo beasiswa dapet potongan berapa?\", \"untuk pendaftaran online gimana caranya ya kak?\", \"apakah masih ada beasiswa untuk alumni muhammadiyah?\", \"di ummi menerima beasiswa KIP gak? kalo menerima bagaimana langkah-langkahnya?\", \"tahapan pendaftaran beasiswa KIP bagaimana?\", \"kalo pembayaran lewat dana gimana caranya?\", \"biaya pendaftaran untuk mahasiswa baru berapa ya kak?\", \"biaya pendaftaran secara keseluruhan berapa?\", \"saya ingin ganti pilihan jurusan saya, bisa ganti gak?\", \"boleh saya tau biaya kuliah non reguler kak?\", \"aku mau tanya seputar pendaftaran, gimana caranya?\", \"bagaimana tahapan untuk perpindahan program studi?\", \"mau tanya boleh? kalo uang semester 1 bisa dicicil atau harus langsung semua?\", \"kalo kelas non reguler itu bagaimana?\", \"kalo biaya pendidikan itu bayarnya bisa bertahap gak?\", \"apakah sekarang tersedia beasiswa peringkat kelas?\", \"boleh minta info rincian biaya persemeternya?\", \"izin bertanya mengenai informasi penggunaan kip di ummi?\", \"kalo di ummi bisa menggunakan KIP kuliah?\", \"untuk biaya perkuliahan itu bagaimana?\", 'makasih']"
   ]
  },
  {
   "cell_type": "code",
   "execution_count": 297,
   "metadata": {},
   "outputs": [
    {
     "data": {
      "text/plain": [
       "'untuk biaya perkuliahan itu bagaimana?'"
      ]
     },
     "execution_count": 297,
     "metadata": {},
     "output_type": "execute_result"
    }
   ],
   "source": [
    "data_uji[48]"
   ]
  },
  {
   "cell_type": "code",
   "execution_count": 87,
   "metadata": {},
   "outputs": [
    {
     "data": {
      "text/plain": [
       "'Pembayaran Dana'"
      ]
     },
     "execution_count": 87,
     "metadata": {},
     "output_type": "execute_result"
    }
   ],
   "source": [
    "jawaban[34]"
   ]
  },
  {
   "cell_type": "code",
   "execution_count": 105,
   "metadata": {},
   "outputs": [],
   "source": [
    "jawaban = ['Petunjuk Pendaftaran', 'Petunjuk Pendaftaran','Petunjuk Pendaftaran', 'Petunjuk Pendaftaran', 'Jadwal Pendaftaran', 'Pedoman Pembayaran', 'Pedoman Pembayaran', 'Pembayaran BSI', 'Pedoman Pembayaran', 'pembayaran cicil', 'Perpindahan Program Studi atau Fakultas', \"Perpindahan Program Studi atau Fakultas\", \"Perpindahan Program Studi atau Fakultas\", \"Perpindahan Program Studi atau Fakultas\", \"pindah kampus\",\"Beasiswa\", \"Beasiswa\", \"KIP\", \"KIP\",\"Beasiswa\", \"Perpindahan Program Studi\", \"Beasiswa\", \"Pembayaran BCA\", \"Pedoman Pembayaran\", \"Petunjuk Pendaftaran\", \"RPL\", \"Pembayaran BNI\", \"Beasiswa\", \"Pembayaran BCA\", \"Beasiswa\", \"Petunjuk Pendaftaran\", \"Beasiswa\",\"KIP\", \"KIP\", \"Pembayaran Dana\", \"Rincian Biaya\", \"Rincian Biaya\", \"Perpindahan Program Studi atau Fakultas\", \"Rincian Biaya\", \"Petunjuk Pendaftaran\", \"Perpindahan Program Studi atau Fakultas\", \"pembayaran cicil\", 'non-reg', \"pembayaran cicil\", \"Beasiswa\", \"Rincian Biaya\", \"KIP\", \"KIP\", \"Rincian Biaya\", 'bye']"
   ]
  },
  {
   "cell_type": "code",
   "execution_count": 106,
   "metadata": {},
   "outputs": [
    {
     "data": {
      "text/plain": [
       "49"
      ]
     },
     "execution_count": 106,
     "metadata": {},
     "output_type": "execute_result"
    }
   ],
   "source": [
    "len(jawaban)"
   ]
  },
  {
   "cell_type": "code",
   "execution_count": 20,
   "metadata": {},
   "outputs": [],
   "source": [
    "# for i,j in enumerate(data_uji):\n",
    "#     print(i,j)"
   ]
  },
  {
   "cell_type": "code",
   "execution_count": null,
   "metadata": {},
   "outputs": [],
   "source": []
  }
 ],
 "metadata": {
  "kernelspec": {
   "display_name": "base",
   "language": "python",
   "name": "python3"
  },
  "language_info": {
   "codemirror_mode": {
    "name": "ipython",
    "version": 3
   },
   "file_extension": ".py",
   "mimetype": "text/x-python",
   "name": "python",
   "nbconvert_exporter": "python",
   "pygments_lexer": "ipython3",
   "version": "3.9.13"
  },
  "orig_nbformat": 4
 },
 "nbformat": 4,
 "nbformat_minor": 2
}
