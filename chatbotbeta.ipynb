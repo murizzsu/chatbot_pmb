{
  "cells": [
    {
      "cell_type": "code",
      "execution_count": 1,
      "metadata": {
        "id": "b1GOJ1n72RNZ"
      },
      "outputs": [],
      "source": [
        "import tensorflow as tf\n",
        "import numpy as np\n",
        "import pandas as pd\n",
        "import json\n",
        "import nltk\n",
        "from tensorflow.keras.preprocessing.text import Tokenizer\n",
        "from tensorflow.keras.preprocessing.sequence import pad_sequences\n",
        "from sklearn.preprocessing import LabelEncoder\n",
        "from tensorflow.keras.layers import Input, Embedding, LSTM, Dense, Flatten, Bidirectional\n",
        "from tensorflow.keras.models import Sequential\n",
        "import matplotlib.pyplot as plt\n",
        "import string\n",
        "import pickle"
      ]
    },
    {
      "cell_type": "markdown",
      "metadata": {
        "id": "MK9_iz82_vc3"
      },
      "source": [
        "# Import and Load the Dataset"
      ]
    },
    {
      "cell_type": "code",
      "execution_count": 2,
      "metadata": {
        "id": "LBiySgdg3pkc"
      },
      "outputs": [],
      "source": [
        "path = \"jsonformatter.txt\"\n",
        "\n",
        "with open(path) as content:\n",
        "  data1 = json.load(content)\n",
        "\n",
        "# print(data1)"
      ]
    },
    {
      "cell_type": "code",
      "execution_count": 3,
      "metadata": {
        "id": "-isZ6RbJ4Dc2"
      },
      "outputs": [],
      "source": [
        "tag = []\n",
        "patterns = []\n",
        "responses = {}\n",
        "\n",
        "#getting all data to list\n",
        "for intent in data1['intents']:\n",
        "  responses[intent['tag']] = intent['responses']\n",
        "  for lines in intent['patterns']:\n",
        "    patterns.append(lines)\n",
        "    tag.append(intent['tag'])\n",
        "\n"
      ]
    },
    {
      "cell_type": "code",
      "execution_count": 4,
      "metadata": {
        "id": "FD4QtQnk6J8x"
      },
      "outputs": [],
      "source": [
        "# convert to dataframe\n",
        "data = pd.DataFrame({'patterns':patterns,\n",
        "                     'tags': tag})"
      ]
    },
    {
      "cell_type": "code",
      "execution_count": 5,
      "metadata": {
        "colab": {
          "base_uri": "https://localhost:8080/",
          "height": 363
        },
        "id": "0AtHyy3d7v9K",
        "outputId": "265c8129-61cf-4478-a952-4765e674083a"
      },
      "outputs": [
        {
          "data": {
            "text/html": [
              "<div>\n",
              "<style scoped>\n",
              "    .dataframe tbody tr th:only-of-type {\n",
              "        vertical-align: middle;\n",
              "    }\n",
              "\n",
              "    .dataframe tbody tr th {\n",
              "        vertical-align: top;\n",
              "    }\n",
              "\n",
              "    .dataframe thead th {\n",
              "        text-align: right;\n",
              "    }\n",
              "</style>\n",
              "<table border=\"1\" class=\"dataframe\">\n",
              "  <thead>\n",
              "    <tr style=\"text-align: right;\">\n",
              "      <th></th>\n",
              "      <th>patterns</th>\n",
              "      <th>tags</th>\n",
              "    </tr>\n",
              "  </thead>\n",
              "  <tbody>\n",
              "    <tr>\n",
              "      <th>189</th>\n",
              "      <td>visi misi dari perpustakaan ummi?</td>\n",
              "      <td>UPT Perpustakaan</td>\n",
              "    </tr>\n",
              "    <tr>\n",
              "      <th>155</th>\n",
              "      <td>Informasi terkait lembaga al islam kemuhammadi...</td>\n",
              "      <td>Lembaga Al-Islam Kemuhammadiyahan</td>\n",
              "    </tr>\n",
              "    <tr>\n",
              "      <th>125</th>\n",
              "      <td>Visi Misi Tujuan dan Sasaran yang dimiliki ummi?</td>\n",
              "      <td>Visi, Misi, Tujuan dan Sasaran Universitas Muh...</td>\n",
              "    </tr>\n",
              "    <tr>\n",
              "      <th>164</th>\n",
              "      <td>Apa itu dewan penyantun?</td>\n",
              "      <td>Dewan Penyantun</td>\n",
              "    </tr>\n",
              "    <tr>\n",
              "      <th>76</th>\n",
              "      <td>ada beasiswa apa saja?</td>\n",
              "      <td>Beasiswa</td>\n",
              "    </tr>\n",
              "    <tr>\n",
              "      <th>100</th>\n",
              "      <td>Berapa biaya untuk kelas reguler dan non reguler?</td>\n",
              "      <td>Rincian Biaya</td>\n",
              "    </tr>\n",
              "    <tr>\n",
              "      <th>220</th>\n",
              "      <td>bagaimana cara melakukan pindah program progra...</td>\n",
              "      <td>Perpindahan Program Studi atau Fakultas</td>\n",
              "    </tr>\n",
              "    <tr>\n",
              "      <th>390</th>\n",
              "      <td>saintek ummi</td>\n",
              "      <td>SAINTEK</td>\n",
              "    </tr>\n",
              "    <tr>\n",
              "      <th>10</th>\n",
              "      <td>Dadah</td>\n",
              "      <td>bye</td>\n",
              "    </tr>\n",
              "    <tr>\n",
              "      <th>204</th>\n",
              "      <td>boleh minta pedoman administrasi akademik?</td>\n",
              "      <td>Pedoman Administrasi Akademik</td>\n",
              "    </tr>\n",
              "  </tbody>\n",
              "</table>\n",
              "</div>"
            ],
            "text/plain": [
              "                                              patterns  \\\n",
              "189                  visi misi dari perpustakaan ummi?   \n",
              "155  Informasi terkait lembaga al islam kemuhammadi...   \n",
              "125   Visi Misi Tujuan dan Sasaran yang dimiliki ummi?   \n",
              "164                           Apa itu dewan penyantun?   \n",
              "76                              ada beasiswa apa saja?   \n",
              "100  Berapa biaya untuk kelas reguler dan non reguler?   \n",
              "220  bagaimana cara melakukan pindah program progra...   \n",
              "390                                       saintek ummi   \n",
              "10                                               Dadah   \n",
              "204         boleh minta pedoman administrasi akademik?   \n",
              "\n",
              "                                                  tags  \n",
              "189                                   UPT Perpustakaan  \n",
              "155                  Lembaga Al-Islam Kemuhammadiyahan  \n",
              "125  Visi, Misi, Tujuan dan Sasaran Universitas Muh...  \n",
              "164                                    Dewan Penyantun  \n",
              "76                                            Beasiswa  \n",
              "100                                      Rincian Biaya  \n",
              "220            Perpindahan Program Studi atau Fakultas  \n",
              "390                                            SAINTEK  \n",
              "10                                                 bye  \n",
              "204                      Pedoman Administrasi Akademik  "
            ]
          },
          "execution_count": 5,
          "metadata": {},
          "output_type": "execute_result"
        }
      ],
      "source": [
        "#print\n",
        "data.sample(n=10)"
      ]
    },
    {
      "cell_type": "markdown",
      "metadata": {
        "id": "ghR2h74MAaBA"
      },
      "source": [
        "# Preprocessing Data"
      ]
    },
    {
      "cell_type": "markdown",
      "metadata": {
        "id": "HcJV9-CKAvvY"
      },
      "source": [
        "### Remove Punctuation and LowerCase\n",
        "\n",
        "Pada tahap ini semua tanda baca pada \"patterns\" akan diubah ke lowercase dan punctuantion dihilangkan"
      ]
    },
    {
      "cell_type": "code",
      "execution_count": 6,
      "metadata": {
        "colab": {
          "base_uri": "https://localhost:8080/",
          "height": 424
        },
        "id": "Cg2Cpa-O7yus",
        "outputId": "83d08383-d2d0-4267-f636-f68c0e17665d"
      },
      "outputs": [
        {
          "data": {
            "text/html": [
              "<div>\n",
              "<style scoped>\n",
              "    .dataframe tbody tr th:only-of-type {\n",
              "        vertical-align: middle;\n",
              "    }\n",
              "\n",
              "    .dataframe tbody tr th {\n",
              "        vertical-align: top;\n",
              "    }\n",
              "\n",
              "    .dataframe thead th {\n",
              "        text-align: right;\n",
              "    }\n",
              "</style>\n",
              "<table border=\"1\" class=\"dataframe\">\n",
              "  <thead>\n",
              "    <tr style=\"text-align: right;\">\n",
              "      <th></th>\n",
              "      <th>patterns</th>\n",
              "      <th>patterns</th>\n",
              "    </tr>\n",
              "  </thead>\n",
              "  <tbody>\n",
              "    <tr>\n",
              "      <th>0</th>\n",
              "      <td>Hai</td>\n",
              "      <td>hai</td>\n",
              "    </tr>\n",
              "    <tr>\n",
              "      <th>1</th>\n",
              "      <td>Hi</td>\n",
              "      <td>hi</td>\n",
              "    </tr>\n",
              "    <tr>\n",
              "      <th>2</th>\n",
              "      <td>Halo</td>\n",
              "      <td>halo</td>\n",
              "    </tr>\n",
              "    <tr>\n",
              "      <th>3</th>\n",
              "      <td>Apa Kabar</td>\n",
              "      <td>apa kabar</td>\n",
              "    </tr>\n",
              "    <tr>\n",
              "      <th>4</th>\n",
              "      <td>Selamat Pagi!</td>\n",
              "      <td>selamat pagi</td>\n",
              "    </tr>\n",
              "    <tr>\n",
              "      <th>...</th>\n",
              "      <td>...</td>\n",
              "      <td>...</td>\n",
              "    </tr>\n",
              "    <tr>\n",
              "      <th>421</th>\n",
              "      <td>arti lambang</td>\n",
              "      <td>arti lambang</td>\n",
              "    </tr>\n",
              "    <tr>\n",
              "      <th>422</th>\n",
              "      <td>makna lambang</td>\n",
              "      <td>makna lambang</td>\n",
              "    </tr>\n",
              "    <tr>\n",
              "      <th>423</th>\n",
              "      <td>lagu ummi</td>\n",
              "      <td>lagu ummi</td>\n",
              "    </tr>\n",
              "    <tr>\n",
              "      <th>424</th>\n",
              "      <td>mars ummi</td>\n",
              "      <td>mars ummi</td>\n",
              "    </tr>\n",
              "    <tr>\n",
              "      <th>425</th>\n",
              "      <td>mars muhammadiyah</td>\n",
              "      <td>mars muhammadiyah</td>\n",
              "    </tr>\n",
              "  </tbody>\n",
              "</table>\n",
              "<p>426 rows × 2 columns</p>\n",
              "</div>"
            ],
            "text/plain": [
              "              patterns           patterns\n",
              "0                  Hai                hai\n",
              "1                   Hi                 hi\n",
              "2                 Halo               halo\n",
              "3            Apa Kabar          apa kabar\n",
              "4        Selamat Pagi!       selamat pagi\n",
              "..                 ...                ...\n",
              "421       arti lambang       arti lambang\n",
              "422      makna lambang      makna lambang\n",
              "423          lagu ummi          lagu ummi\n",
              "424          mars ummi          mars ummi\n",
              "425  mars muhammadiyah  mars muhammadiyah\n",
              "\n",
              "[426 rows x 2 columns]"
            ]
          },
          "execution_count": 6,
          "metadata": {},
          "output_type": "execute_result"
        }
      ],
      "source": [
        "def data_cleaning(data):\n",
        "  data['patterns'] = data['patterns'].apply(lambda wrd:[ltrs.lower() for ltrs in wrd if ltrs not in string.punctuation])\n",
        "  data['patterns'] = data['patterns'].apply(lambda wrd: ''.join(wrd))\n",
        "  return data\n",
        "dirty_text = pd.DataFrame({'patterns':patterns})\n",
        "clean_text = pd.DataFrame({'patterns':patterns})\n",
        "result = pd.concat([dirty_text['patterns'], data_cleaning(clean_text)], axis=1)\n",
        "result"
      ]
    },
    {
      "cell_type": "markdown",
      "metadata": {
        "id": "6yKoWtDXGyMx"
      },
      "source": [
        "## Word Normalization\n",
        "Tahap ini digunakan untuk merubakah kata yang tidak baku menjadi kata baku"
      ]
    },
    {
      "cell_type": "code",
      "execution_count": 7,
      "metadata": {
        "colab": {
          "base_uri": "https://localhost:8080/"
        },
        "id": "zLiP8LN6q64f",
        "outputId": "9f14f2ff-2cfd-477e-9457-05320a94e130"
      },
      "outputs": [
        {
          "name": "stderr",
          "output_type": "stream",
          "text": [
            "'wget' is not recognized as an internal or external command,\n",
            "operable program or batch file.\n"
          ]
        }
      ],
      "source": [
        "# corpus bisa didownload pada link dibawah ini\n",
        "!wget https://raw.githubusercontent.com/ksnugroho/klasifikasi-spam-sms/master/data/key_norm.csv"
      ]
    },
    {
      "cell_type": "code",
      "execution_count": 8,
      "metadata": {
        "colab": {
          "base_uri": "https://localhost:8080/",
          "height": 424
        },
        "id": "AvsmsWl3rKsJ",
        "outputId": "0c40f5da-9e36-459d-9078-94bee3fe4000"
      },
      "outputs": [
        {
          "data": {
            "text/html": [
              "<div>\n",
              "<style scoped>\n",
              "    .dataframe tbody tr th:only-of-type {\n",
              "        vertical-align: middle;\n",
              "    }\n",
              "\n",
              "    .dataframe tbody tr th {\n",
              "        vertical-align: top;\n",
              "    }\n",
              "\n",
              "    .dataframe thead th {\n",
              "        text-align: right;\n",
              "    }\n",
              "</style>\n",
              "<table border=\"1\" class=\"dataframe\">\n",
              "  <thead>\n",
              "    <tr style=\"text-align: right;\">\n",
              "      <th></th>\n",
              "      <th>patterns</th>\n",
              "      <th>patterns</th>\n",
              "    </tr>\n",
              "  </thead>\n",
              "  <tbody>\n",
              "    <tr>\n",
              "      <th>0</th>\n",
              "      <td>Hai</td>\n",
              "      <td>hai</td>\n",
              "    </tr>\n",
              "    <tr>\n",
              "      <th>1</th>\n",
              "      <td>Hi</td>\n",
              "      <td>hi</td>\n",
              "    </tr>\n",
              "    <tr>\n",
              "      <th>2</th>\n",
              "      <td>Halo</td>\n",
              "      <td>halo</td>\n",
              "    </tr>\n",
              "    <tr>\n",
              "      <th>3</th>\n",
              "      <td>Apa Kabar</td>\n",
              "      <td>apa kabar</td>\n",
              "    </tr>\n",
              "    <tr>\n",
              "      <th>4</th>\n",
              "      <td>Selamat Pagi!</td>\n",
              "      <td>selamat pagi</td>\n",
              "    </tr>\n",
              "    <tr>\n",
              "      <th>...</th>\n",
              "      <td>...</td>\n",
              "      <td>...</td>\n",
              "    </tr>\n",
              "    <tr>\n",
              "      <th>421</th>\n",
              "      <td>arti lambang</td>\n",
              "      <td>arti lambang</td>\n",
              "    </tr>\n",
              "    <tr>\n",
              "      <th>422</th>\n",
              "      <td>makna lambang</td>\n",
              "      <td>makna lambang</td>\n",
              "    </tr>\n",
              "    <tr>\n",
              "      <th>423</th>\n",
              "      <td>lagu ummi</td>\n",
              "      <td>lagu ummi</td>\n",
              "    </tr>\n",
              "    <tr>\n",
              "      <th>424</th>\n",
              "      <td>mars ummi</td>\n",
              "      <td>mars ummi</td>\n",
              "    </tr>\n",
              "    <tr>\n",
              "      <th>425</th>\n",
              "      <td>mars muhammadiyah</td>\n",
              "      <td>mars muhammadiyah</td>\n",
              "    </tr>\n",
              "  </tbody>\n",
              "</table>\n",
              "<p>426 rows × 2 columns</p>\n",
              "</div>"
            ],
            "text/plain": [
              "              patterns           patterns\n",
              "0                  Hai                hai\n",
              "1                   Hi                 hi\n",
              "2                 Halo               halo\n",
              "3            Apa Kabar          apa kabar\n",
              "4        Selamat Pagi!       selamat pagi\n",
              "..                 ...                ...\n",
              "421       arti lambang       arti lambang\n",
              "422      makna lambang      makna lambang\n",
              "423          lagu ummi          lagu ummi\n",
              "424          mars ummi          mars ummi\n",
              "425  mars muhammadiyah  mars muhammadiyah\n",
              "\n",
              "[426 rows x 2 columns]"
            ]
          },
          "execution_count": 8,
          "metadata": {},
          "output_type": "execute_result"
        }
      ],
      "source": [
        "key_norm = pd.read_csv('key_norm.csv')\n",
        "\n",
        "def text_normalize(text):\n",
        "  text = ' '.join([key_norm[key_norm['singkat'] == word]['hasil'].values[0] if (key_norm['singkat'] == word).any() else word for word in text.split()])\n",
        "  text = str.lower(text)\n",
        "  return text\n",
        "\n",
        "clean_text['patterns'] = clean_text['patterns'].apply(text_normalize)\n",
        "result = pd.concat([dirty_text['patterns'], clean_text['patterns']], axis=1)\n",
        "result\n",
        "\n",
        "#print(text_normalize('agk'))"
      ]
    },
    {
      "cell_type": "markdown",
      "metadata": {
        "id": "qJm6oLKBMgGt"
      },
      "source": [
        "### Stopword Removal\n",
        "Stopword removal adalah proses penghapusan atau penghilangan kata-kata umum yang tidak memiliki makna khusus atau tidak memberikan kontribusi signifikan dalam pemrosesan teks atau analisis NLP (Natural Language Processing). Stopword biasanya terdiri dari kata-kata seperti \"ada\", \"di\", \"dan\", \"yang\", dan sebagainya. Kata-kata ini muncul secara berulang dalam teks dan tidak memberikan informasi yang berguna dalam pemahaman konten."
      ]
    },
    {
      "cell_type": "code",
      "execution_count": 9,
      "metadata": {
        "colab": {
          "base_uri": "https://localhost:8080/"
        },
        "id": "T0zIql2QrMc-",
        "outputId": "702c7647-ada8-4554-b88c-1a342b7289b5"
      },
      "outputs": [
        {
          "name": "stderr",
          "output_type": "stream",
          "text": [
            "[nltk_data] Downloading package stopwords to\n",
            "[nltk_data]     C:\\Users\\MRizky\\AppData\\Roaming\\nltk_data...\n",
            "[nltk_data]   Package stopwords is already up-to-date!\n"
          ]
        }
      ],
      "source": [
        "#Stopword download from nltk\n",
        "nltk.download('stopwords')\n",
        "from nltk.tokenize import sent_tokenize, word_tokenize\n",
        "from nltk.corpus import stopwords\n",
        "\n",
        "stopwords_ind = stopwords.words('indonesian')"
      ]
    },
    {
      "cell_type": "code",
      "execution_count": 10,
      "metadata": {
        "colab": {
          "base_uri": "https://localhost:8080/"
        },
        "id": "7ck8Y1DYrfvb",
        "outputId": "5ddc5c47-000e-4873-d8d2-c261272ee75c"
      },
      "outputs": [
        {
          "data": {
            "text/plain": [
              "758"
            ]
          },
          "execution_count": 10,
          "metadata": {},
          "output_type": "execute_result"
        }
      ],
      "source": [
        "len(stopwords_ind)"
      ]
    },
    {
      "cell_type": "code",
      "execution_count": 11,
      "metadata": {
        "colab": {
          "base_uri": "https://localhost:8080/"
        },
        "id": "VjpZazPhriAw",
        "outputId": "1ff17f5d-faa5-4572-d499-82b4608038da"
      },
      "outputs": [
        {
          "data": {
            "text/plain": [
              "['ada',\n",
              " 'adalah',\n",
              " 'adanya',\n",
              " 'adapun',\n",
              " 'agak',\n",
              " 'agaknya',\n",
              " 'agar',\n",
              " 'akan',\n",
              " 'akankah',\n",
              " 'akhir']"
            ]
          },
          "execution_count": 11,
          "metadata": {},
          "output_type": "execute_result"
        }
      ],
      "source": [
        "# Lihat daftar stopword yang disediakan NLTK\n",
        "stopwords_ind[:10]"
      ]
    },
    {
      "cell_type": "code",
      "execution_count": 12,
      "metadata": {
        "colab": {
          "base_uri": "https://localhost:8080/",
          "height": 424
        },
        "id": "-17n7N7Nru2N",
        "outputId": "562025af-6288-462a-bb14-95d496452259"
      },
      "outputs": [
        {
          "data": {
            "text/html": [
              "<div>\n",
              "<style scoped>\n",
              "    .dataframe tbody tr th:only-of-type {\n",
              "        vertical-align: middle;\n",
              "    }\n",
              "\n",
              "    .dataframe tbody tr th {\n",
              "        vertical-align: top;\n",
              "    }\n",
              "\n",
              "    .dataframe thead th {\n",
              "        text-align: right;\n",
              "    }\n",
              "</style>\n",
              "<table border=\"1\" class=\"dataframe\">\n",
              "  <thead>\n",
              "    <tr style=\"text-align: right;\">\n",
              "      <th></th>\n",
              "      <th>patterns</th>\n",
              "      <th>patterns</th>\n",
              "    </tr>\n",
              "  </thead>\n",
              "  <tbody>\n",
              "    <tr>\n",
              "      <th>0</th>\n",
              "      <td>Hai</td>\n",
              "      <td>hai</td>\n",
              "    </tr>\n",
              "    <tr>\n",
              "      <th>1</th>\n",
              "      <td>Hi</td>\n",
              "      <td>hi</td>\n",
              "    </tr>\n",
              "    <tr>\n",
              "      <th>2</th>\n",
              "      <td>Halo</td>\n",
              "      <td>halo</td>\n",
              "    </tr>\n",
              "    <tr>\n",
              "      <th>3</th>\n",
              "      <td>Apa Kabar</td>\n",
              "      <td>kabar</td>\n",
              "    </tr>\n",
              "    <tr>\n",
              "      <th>4</th>\n",
              "      <td>Selamat Pagi!</td>\n",
              "      <td>selamat pagi</td>\n",
              "    </tr>\n",
              "    <tr>\n",
              "      <th>...</th>\n",
              "      <td>...</td>\n",
              "      <td>...</td>\n",
              "    </tr>\n",
              "    <tr>\n",
              "      <th>421</th>\n",
              "      <td>arti lambang</td>\n",
              "      <td>arti lambang</td>\n",
              "    </tr>\n",
              "    <tr>\n",
              "      <th>422</th>\n",
              "      <td>makna lambang</td>\n",
              "      <td>makna lambang</td>\n",
              "    </tr>\n",
              "    <tr>\n",
              "      <th>423</th>\n",
              "      <td>lagu ummi</td>\n",
              "      <td>lagu ummi</td>\n",
              "    </tr>\n",
              "    <tr>\n",
              "      <th>424</th>\n",
              "      <td>mars ummi</td>\n",
              "      <td>mars ummi</td>\n",
              "    </tr>\n",
              "    <tr>\n",
              "      <th>425</th>\n",
              "      <td>mars muhammadiyah</td>\n",
              "      <td>mars muhammadiyah</td>\n",
              "    </tr>\n",
              "  </tbody>\n",
              "</table>\n",
              "<p>426 rows × 2 columns</p>\n",
              "</div>"
            ],
            "text/plain": [
              "              patterns           patterns\n",
              "0                  Hai                hai\n",
              "1                   Hi                 hi\n",
              "2                 Halo               halo\n",
              "3            Apa Kabar              kabar\n",
              "4        Selamat Pagi!       selamat pagi\n",
              "..                 ...                ...\n",
              "421       arti lambang       arti lambang\n",
              "422      makna lambang      makna lambang\n",
              "423          lagu ummi          lagu ummi\n",
              "424          mars ummi          mars ummi\n",
              "425  mars muhammadiyah  mars muhammadiyah\n",
              "\n",
              "[426 rows x 2 columns]"
            ]
          },
          "execution_count": 12,
          "metadata": {},
          "output_type": "execute_result"
        }
      ],
      "source": [
        "# Menambahkan kata dalam stopword\n",
        "more_stopword = ['kak', 'informasi', \"tentang\"]\n",
        "stopwords_ind = stopwords_ind + more_stopword\n",
        "\n",
        "def remove_stop_words(text):\n",
        "  clean_words = []\n",
        "  text = text.split()\n",
        "  for word in text:\n",
        "      if word not in stopwords_ind:\n",
        "          clean_words.append(word)\n",
        "  return \" \".join(clean_words)\n",
        "\n",
        "clean_text['patterns'] = clean_text['patterns'].apply(remove_stop_words)\n",
        "result = pd.concat([dirty_text['patterns'], clean_text['patterns']], axis=1)\n",
        "result"
      ]
    },
    {
      "cell_type": "markdown",
      "metadata": {
        "id": "fUGAjYErO0gb"
      },
      "source": [
        "### Stemming\n",
        "Stemming adalah proses mengubah kata-kata menjadi bentuk dasarnya (stem) dengan menghapus awalan atau akhiran kata. untuk melakukan stemming, disini saya menggunakan library sastrawi"
      ]
    },
    {
      "cell_type": "code",
      "execution_count": 13,
      "metadata": {
        "colab": {
          "base_uri": "https://localhost:8080/"
        },
        "id": "rl37VG7_sFCB",
        "outputId": "4f6a455d-0ca4-421e-d058-93d870c0ed34"
      },
      "outputs": [
        {
          "name": "stderr",
          "output_type": "stream",
          "text": [
            "\n",
            "[notice] A new release of pip is available: 23.1.2 -> 23.2\n",
            "[notice] To update, run: python.exe -m pip install --upgrade pip\n"
          ]
        }
      ],
      "source": [
        "!pip -q install sastrawi"
      ]
    },
    {
      "cell_type": "code",
      "execution_count": 14,
      "metadata": {
        "colab": {
          "base_uri": "https://localhost:8080/",
          "height": 424
        },
        "id": "dwT32KKtr-4s",
        "outputId": "9452284d-8657-40f3-862b-a48ef2c6dfe5"
      },
      "outputs": [
        {
          "data": {
            "text/html": [
              "<div>\n",
              "<style scoped>\n",
              "    .dataframe tbody tr th:only-of-type {\n",
              "        vertical-align: middle;\n",
              "    }\n",
              "\n",
              "    .dataframe tbody tr th {\n",
              "        vertical-align: top;\n",
              "    }\n",
              "\n",
              "    .dataframe thead th {\n",
              "        text-align: right;\n",
              "    }\n",
              "</style>\n",
              "<table border=\"1\" class=\"dataframe\">\n",
              "  <thead>\n",
              "    <tr style=\"text-align: right;\">\n",
              "      <th></th>\n",
              "      <th>patterns</th>\n",
              "      <th>patterns</th>\n",
              "    </tr>\n",
              "  </thead>\n",
              "  <tbody>\n",
              "    <tr>\n",
              "      <th>0</th>\n",
              "      <td>Hai</td>\n",
              "      <td>hai</td>\n",
              "    </tr>\n",
              "    <tr>\n",
              "      <th>1</th>\n",
              "      <td>Hi</td>\n",
              "      <td>hi</td>\n",
              "    </tr>\n",
              "    <tr>\n",
              "      <th>2</th>\n",
              "      <td>Halo</td>\n",
              "      <td>halo</td>\n",
              "    </tr>\n",
              "    <tr>\n",
              "      <th>3</th>\n",
              "      <td>Apa Kabar</td>\n",
              "      <td>kabar</td>\n",
              "    </tr>\n",
              "    <tr>\n",
              "      <th>4</th>\n",
              "      <td>Selamat Pagi!</td>\n",
              "      <td>selamat pagi</td>\n",
              "    </tr>\n",
              "    <tr>\n",
              "      <th>...</th>\n",
              "      <td>...</td>\n",
              "      <td>...</td>\n",
              "    </tr>\n",
              "    <tr>\n",
              "      <th>421</th>\n",
              "      <td>arti lambang</td>\n",
              "      <td>arti lambang</td>\n",
              "    </tr>\n",
              "    <tr>\n",
              "      <th>422</th>\n",
              "      <td>makna lambang</td>\n",
              "      <td>makna lambang</td>\n",
              "    </tr>\n",
              "    <tr>\n",
              "      <th>423</th>\n",
              "      <td>lagu ummi</td>\n",
              "      <td>lagu ummi</td>\n",
              "    </tr>\n",
              "    <tr>\n",
              "      <th>424</th>\n",
              "      <td>mars ummi</td>\n",
              "      <td>mars ummi</td>\n",
              "    </tr>\n",
              "    <tr>\n",
              "      <th>425</th>\n",
              "      <td>mars muhammadiyah</td>\n",
              "      <td>mars muhammadiyah</td>\n",
              "    </tr>\n",
              "  </tbody>\n",
              "</table>\n",
              "<p>426 rows × 2 columns</p>\n",
              "</div>"
            ],
            "text/plain": [
              "              patterns           patterns\n",
              "0                  Hai                hai\n",
              "1                   Hi                 hi\n",
              "2                 Halo               halo\n",
              "3            Apa Kabar              kabar\n",
              "4        Selamat Pagi!       selamat pagi\n",
              "..                 ...                ...\n",
              "421       arti lambang       arti lambang\n",
              "422      makna lambang      makna lambang\n",
              "423          lagu ummi          lagu ummi\n",
              "424          mars ummi          mars ummi\n",
              "425  mars muhammadiyah  mars muhammadiyah\n",
              "\n",
              "[426 rows x 2 columns]"
            ]
          },
          "execution_count": 14,
          "metadata": {},
          "output_type": "execute_result"
        }
      ],
      "source": [
        "#Stemming\n",
        "from Sastrawi.Stemmer.StemmerFactory import StemmerFactory\n",
        "\n",
        "factory = StemmerFactory()\n",
        "stemmer = factory.create_stemmer()\n",
        "\n",
        "# Buat fungsi untuk langkah stemming bahasa Indonesia\n",
        "def stemming(text):\n",
        "  text = stemmer.stem(text)\n",
        "  return text\n",
        "\n",
        "clean_text['patterns'] = clean_text['patterns'].apply(stemming)\n",
        "result = pd.concat([dirty_text['patterns'], clean_text['patterns']], axis=1)\n",
        "result"
      ]
    },
    {
      "cell_type": "code",
      "execution_count": 15,
      "metadata": {
        "id": "wrH-D9zmsN0l"
      },
      "outputs": [],
      "source": [
        "def text_preprocessing_process(text):\n",
        "  text = text_normalize(text)\n",
        "  text = remove_stop_words(text)\n",
        "  text = stemming(text)\n",
        "  return text"
      ]
    },
    {
      "cell_type": "code",
      "execution_count": 16,
      "metadata": {
        "colab": {
          "base_uri": "https://localhost:8080/",
          "height": 424
        },
        "id": "URkigzZmsTyZ",
        "outputId": "a2152a51-bc95-44fb-8084-2cba2ed0a928"
      },
      "outputs": [
        {
          "data": {
            "text/html": [
              "<div>\n",
              "<style scoped>\n",
              "    .dataframe tbody tr th:only-of-type {\n",
              "        vertical-align: middle;\n",
              "    }\n",
              "\n",
              "    .dataframe tbody tr th {\n",
              "        vertical-align: top;\n",
              "    }\n",
              "\n",
              "    .dataframe thead th {\n",
              "        text-align: right;\n",
              "    }\n",
              "</style>\n",
              "<table border=\"1\" class=\"dataframe\">\n",
              "  <thead>\n",
              "    <tr style=\"text-align: right;\">\n",
              "      <th></th>\n",
              "      <th>patterns</th>\n",
              "      <th>tags</th>\n",
              "    </tr>\n",
              "  </thead>\n",
              "  <tbody>\n",
              "    <tr>\n",
              "      <th>0</th>\n",
              "      <td>hai</td>\n",
              "      <td>salam</td>\n",
              "    </tr>\n",
              "    <tr>\n",
              "      <th>1</th>\n",
              "      <td>hi</td>\n",
              "      <td>salam</td>\n",
              "    </tr>\n",
              "    <tr>\n",
              "      <th>2</th>\n",
              "      <td>halo</td>\n",
              "      <td>salam</td>\n",
              "    </tr>\n",
              "    <tr>\n",
              "      <th>3</th>\n",
              "      <td>kabar</td>\n",
              "      <td>salam</td>\n",
              "    </tr>\n",
              "    <tr>\n",
              "      <th>4</th>\n",
              "      <td>selamat pagi</td>\n",
              "      <td>salam</td>\n",
              "    </tr>\n",
              "    <tr>\n",
              "      <th>...</th>\n",
              "      <td>...</td>\n",
              "      <td>...</td>\n",
              "    </tr>\n",
              "    <tr>\n",
              "      <th>421</th>\n",
              "      <td>arti lambang</td>\n",
              "      <td>identitas</td>\n",
              "    </tr>\n",
              "    <tr>\n",
              "      <th>422</th>\n",
              "      <td>makna lambang</td>\n",
              "      <td>identitas</td>\n",
              "    </tr>\n",
              "    <tr>\n",
              "      <th>423</th>\n",
              "      <td>lagu ummi</td>\n",
              "      <td>mars ummi</td>\n",
              "    </tr>\n",
              "    <tr>\n",
              "      <th>424</th>\n",
              "      <td>mars ummi</td>\n",
              "      <td>mars ummi</td>\n",
              "    </tr>\n",
              "    <tr>\n",
              "      <th>425</th>\n",
              "      <td>mars muhammadiyah</td>\n",
              "      <td>mars ummi</td>\n",
              "    </tr>\n",
              "  </tbody>\n",
              "</table>\n",
              "<p>426 rows × 2 columns</p>\n",
              "</div>"
            ],
            "text/plain": [
              "              patterns       tags\n",
              "0                  hai      salam\n",
              "1                   hi      salam\n",
              "2                 halo      salam\n",
              "3                kabar      salam\n",
              "4         selamat pagi      salam\n",
              "..                 ...        ...\n",
              "421       arti lambang  identitas\n",
              "422      makna lambang  identitas\n",
              "423          lagu ummi  mars ummi\n",
              "424          mars ummi  mars ummi\n",
              "425  mars muhammadiyah  mars ummi\n",
              "\n",
              "[426 rows x 2 columns]"
            ]
          },
          "execution_count": 16,
          "metadata": {},
          "output_type": "execute_result"
        }
      ],
      "source": [
        "data['patterns'] = data['patterns'].apply(text_preprocessing_process)\n",
        "data"
      ]
    },
    {
      "cell_type": "markdown",
      "metadata": {
        "id": "Bmdls0B4Zx6_"
      },
      "source": [
        "### Tokenize\n",
        "Tokenizer mengidentifikasi dan memisahkan teks menjadi token-token yang dapat diolah lebih lanjut. Ini dapat berupa tokenisasi berbasis kata, di mana teks dipisahkan menjadi kata-kata individual, atau tokenisasi berbasis sub-kata, di mana teks dipisahkan menjadi unit-unit yang lebih kecil seperti akar kata atau bagian-bagian kata.\n",
        "\n",
        "### Sequence and Padding\n",
        "- Sequence (urutan) merujuk pada representasi linier dari teks atau urutan kata dalam bentuk vektor. Dalam pemrosesan bahasa alami, teks sering kali dipecah menjadi urutan kata atau token, dan urutan ini dapat dianggap sebagai rangkaian langkah yang harus diikuti dalam pemodelan dan analisis teks.\n",
        "- Padding adalah proses menambahkan nilai khusus (biasanya nilai nol) ke urutan teks sehingga semua urutan memiliki panjang yang sama. Ini diperlukan karena teks biasanya memiliki panjang yang berbeda-beda, sementara banyak model pemrosesan bahasa alami memerlukan masukan dengan ukuran yang seragam. Dengan padding, teks yang lebih pendek diisi dengan nilai nol hingga mencapai panjang yang diinginkan."
      ]
    },
    {
      "cell_type": "code",
      "execution_count": 17,
      "metadata": {
        "id": "DZkpEp6N85kD"
      },
      "outputs": [],
      "source": [
        "#tokenize\n",
        "trunc_type='post'\n",
        "padding_type='post'\n",
        "\n",
        "\n",
        "tokenizer = Tokenizer(num_words = 2000)\n",
        "tokenizer.fit_on_texts(data['patterns'])\n",
        "train = tokenizer.texts_to_sequences(data['patterns'])\n",
        "\n",
        "# print(tokenizer)\n",
        "\n",
        "# Get the word index dictionary\n",
        "word_index = tokenizer.word_index\n",
        "\n",
        "#applying padding\n",
        "x_train = pad_sequences(train, padding=padding_type, truncating=trunc_type)\n",
        "\n"
      ]
    },
    {
      "cell_type": "code",
      "execution_count": 18,
      "metadata": {
        "colab": {
          "base_uri": "https://localhost:8080/"
        },
        "id": "TqjvZ5t_dmPa",
        "outputId": "a505ff14-bb9b-4b3a-ae59-aa96f808938a"
      },
      "outputs": [
        {
          "name": "stdout",
          "output_type": "stream",
          "text": [
            "[ 98  98  98  98  98  98  98  98  98  98  88  88  88  88  88  88  88  88\n",
            "  88  88  88  89  89  89  89  89  89  89  89  89  89  89  89  89  89  31\n",
            "  31  31  31  31  31  66  66  66  66  66  66  66  66  66  66  66  66  66\n",
            "  43  43  43  99  99  99  71  71  71   7   7   7  26  26  26  94  94  94\n",
            "  94  94   9   9   9   9   9   9   9   9   9   9   9   9  70  70  70  70\n",
            "  70  70  70  69  69  12  12  12  12  12  72  72  72  72  72  72  72  72\n",
            "  37  37  37  37  37  37  37  83  83  83  83  83  83  83  87  87  87  87\n",
            "  87  80  80  80  80  67  67  67  67  67  67  41  41  41  41  41  41  25\n",
            "  25  25  25  25  40  40  40  40  40  38  38  38  38  38   8   8   8   8\n",
            "   8   8  15  15  15  15  15  15  39  39  39  39  39  39  39  79  84  84\n",
            "  84  84  84  84  84  85  85  85  86  86  86  76  76  17  18  29  28  34\n",
            "  34  34  34  50  50  50  50  51  51  51  51  51  51  51  51  10  10  10\n",
            "   2   2   2  65  65  65  65  65  65  65  65  68  68  68  97  97  97  97\n",
            "  97  97  97  62  62  62  62  33  33  33  33  33  63  63  63  63  35  35\n",
            "  35  35  16  16  16  16  16  77  77  77  77  13  13  13  13  13   4   4\n",
            "   4   4 100 100  78  78  78  78  96  96  96  92  92  92  92  92  92  92\n",
            "  95  95  95  95  95  93  93  93  93  32  32  32  32  32  32  32  55  55\n",
            "  55  56  56  56  58  58  58  57  57  57  60  60  60  59  59  59  52  52\n",
            "  52  54  54  54  53  53  53  19  19  19  19  49  49  49  45  45  45  11\n",
            "  11  11  46  46  46  46  47  47  47  48  48  48  61  61  20  20  20   6\n",
            "   6  64  64  64  64  64  44  44  44  44  44  22  22  22   1   1   1   0\n",
            "   0   0  27  27  27  75  75  75  42  42  74  74  74  36  36  81  81  81\n",
            "  82  82  82  24  24   3   3   5   5  21  21  21  30  30  23  23  23  14\n",
            "  14  73  73  90  90  90  90  90  90  91  91  91]\n"
          ]
        }
      ],
      "source": [
        "#encoding the methods\n",
        "le = LabelEncoder()\n",
        "y_train = le.fit_transform(data['tags'])\n",
        "\n",
        "# print(\"\\nWord Index = \" , word_index)\n",
        "# print(\"\\nSequences = \" , train)\n",
        "# print(x_train)\n",
        "# print(le)\n",
        "print(y_train)\n"
      ]
    },
    {
      "cell_type": "code",
      "execution_count": 19,
      "metadata": {
        "colab": {
          "base_uri": "https://localhost:8080/"
        },
        "id": "7wdMrs4UmppZ",
        "outputId": "f557b2c9-f479-4b7d-8edb-a84f46882fc9"
      },
      "outputs": [
        {
          "name": "stdout",
          "output_type": "stream",
          "text": [
            "{1: 'ummi', 2: 'bayar', 3: 'daftar', 4: 'program', 5: 'bank', 6: 'pindah', 7: 'fakultas', 8: 'studi', 9: 'kuliah', 10: 'beasiswa', 11: 'kampus', 12: 'tahap', 13: 'visi', 14: 'misi', 15: 'tugas', 16: 'adalah', 17: 'reguler', 18: 'surat', 19: 'biaya', 20: 'lembaga', 21: 'muhammadiyah', 22: 'didik', 23: 'non', 24: 'akademik', 25: 'universitas', 26: 'sukabumi', 27: 'sedia', 28: 'jurus', 29: 'sarjana', 30: 'kip', 31: 'kelas', 32: 'ya', 33: 'syarat', 34: 'administrasi', 35: 'ilmu', 36: 'mahasiswa', 37: 'mana', 38: 'upt', 39: 'dewan', 40: 'santun', 41: 'pmb', 42: 'terang', 43: 'ada', 44: 'aja', 45: 'jadwal', 46: 'kak', 47: '1', 48: 'semester', 49: 'rektor', 50: 'fasilitas', 51: 'al', 52: 'islam', 53: 'kemuhammadiyahan', 54: 'bph', 55: 'lppm', 56: 'aktif', 57: 'ijazah', 58: 'paja', 59: 'manajemen', 60: 'retail', 61: 'selamat', 62: 'terima', 63: 'prodi', 64: 'saja', 65: 'transfer', 66: 'profesi', 67: 'ners', 68: 'hubung', 69: 'struktur', 70: 'organisasi', 71: 'wakil', 72: 'humas', 73: 'giat', 74: 'undur', 75: 'krs', 76: 'dosen', 77: 'cuti', 78: 'mbkm', 79: 'merdeka', 80: 'hukum', 81: 'awat', 82: 'akreditasi', 83: 'buka', 84: 'langkah', 85: 'online', 86: 'alur', 87: '3', 88: 'browsur', 89: 'diri', 90: 'singkat', 91: 'ngapain', 92: 'masyarakat', 93: 'ilc', 94: 'pustaka', 95: 'ajar', 96: 'pedoman', 97: 'kartu', 98: 'ganti', 99: 'cara', 100: 'hadir', 101: 'dispensasi', 102: 'ikut', 103: 'cicil', 104: 'bca', 105: 'bni', 106: 'bsi', 107: 'bri', 108: 'mandiri', 109: 'cimb', 110: 'niaga', 111: 'bjb', 112: 'muamalat', 113: 'dana', 114: 'fkip', 115: 'guru', 116: 'biologi', 117: 'pg', 118: 'paud', 119: 'logo', 120: 'hari', 121: 'ok', 122: 'terimakasih', 123: 'bye', 124: 'lanjut', 125: 'putar', 126: 'prosedur', 127: '2', 128: 'rpl', 129: '4', 130: 'alih', 131: 'jenjang', 132: '5', 133: 'fast', 134: 'track', 135: 'pasca', 136: 'pascasarjana', 137: 'kriteria', 138: 'kait', 139: 'diploma', 140: 'pamflet', 141: 'rincian', 142: 'keluar', 143: 'kontak', 144: 'email', 145: 'milik', 146: 'sejarah', 147: 'tuju', 148: 'sasar', 149: 'pimpin', 150: 'lokasi', 151: 'sebut', 152: 'dari', 153: 'teliti', 154: 'abdi', 155: 'sistem', 156: 'e', 157: 'kalender', 158: 'pandu', 159: 'metode', 160: 'berita', 161: 'izin', 162: 'skak', 163: 'verifikasi', 164: 'lulus', 165: 'skl', 166: 'indonesia', 167: 'pti', 168: 'pbi', 169: 'pjkr', 170: 'sehat', 171: 'matematika', 172: 'ekonomi', 173: 'akutansi', 174: 'humaniora', 175: 'adpub', 176: 'adbis', 177: 'sasing', 178: 'magister', 179: 'adminisitrasi', 180: 'saintek', 181: 'kimia', 182: 'teknik', 183: 'ti', 184: 'ts', 185: 'tani', 186: 'agribisnis', 187: 'akuakultur', 188: 'fkes', 189: 'arti', 190: 'makna', 191: 'lambang', 192: 'mars', 193: 'hai', 194: 'hi', 195: 'halo', 196: 'kabar', 197: 'pagi', 198: 'siang', 199: 'malam', 200: 'salam', 201: 'assalamualaikum', 202: 'wr', 203: 'wb', 204: 'hallo', 205: 'dadah', 206: 'tinggal', 207: 'dah', 208: 'daah', 209: 'moga', 210: 'senang', 211: 'jumpa', 212: 'kasih', 213: 'gelombang', 214: 'tanggal', 215: 'kapan', 216: 'batas', 217: 'tunjuk', 218: 'bantu', 219: 'proses', 220: 'penuh', 221: '6', 222: 'calon', 223: 'potong', 224: 'peringkat', 225: 'taut', 226: 'akses', 227: 'tau', 228: 'unfo', 229: 'serta', 230: 'persemestrenya', 231: 'nomor', 232: 'whatsapp', 233: 'wa', 234: 'facebook', 235: 'sosial', 236: 'media', 237: 'pada', 238: 'tinggi', 239: 'letak', 240: 'di', 241: 'alamat', 242: 'beri', 243: 'badan', 244: 'bina', 245: 'peran', 246: 'senat', 247: 'rupa', 248: 'siak', 249: 'complent', 250: 'learning', 251: 'ict', 252: 'center', 253: 'helpdesk', 254: 'ini', 255: 'buku', 256: 'transaksi', 257: 'kredit', 258: 'debit', 259: 'baru', 260: 'agenda', 261: 'lintas', 262: 'beda', 263: 'pilih', 264: 'bisa', 265: 'mungkin', 266: 'isi', 267: 'rencana', 268: 'ambil', 269: 'isis', 270: 'presensi', 271: 'henti', 272: 'apa', 273: 'guna', 274: 'hilang', 275: 'rusak', 276: 'salah', 277: 'kompetensi', 278: 'uang', 279: 'langsung', 280: 'semua', 281: 'gk', 282: 'opsi', 283: 'angsur', 284: 'masuk', 285: 'karyawan', 286: 'karyawannya', 287: 'langkah2', 288: 'jalur', 289: 'gmna', 290: 'pintar', 291: 'bahasa', 292: 'pgpaud', 293: 'sd', 294: 'sekolah', 295: 'dasar', 296: 'pgsd', 297: 'jasmani', 298: 'rekreasi', 299: 'fe', 300: 'fiah', 301: 'publik', 302: 'bisnis', 303: 'sastra', 304: 'inggris', 305: 'sains', 306: 'teknologi', 307: 'informatika', 308: 'sipil', 309: 'fh', 310: 'd3', 311: 's1', 312: 'identitas', 313: 'lagu'}\n"
          ]
        }
      ],
      "source": [
        "daftar = reverse_word_index = dict((value, key) for (key, value) in tokenizer.word_index.items())\n",
        "print(daftar)"
      ]
    },
    {
      "cell_type": "code",
      "execution_count": 20,
      "metadata": {
        "colab": {
          "base_uri": "https://localhost:8080/"
        },
        "id": "kyX7GmfJ_IDU",
        "outputId": "c620cd3b-67f8-44ab-a4e2-fb18ad5a0f80"
      },
      "outputs": [
        {
          "name": "stdout",
          "output_type": "stream",
          "text": [
            "7\n"
          ]
        }
      ],
      "source": [
        "input_shape = x_train.shape[1]\n",
        "print(input_shape)"
      ]
    },
    {
      "cell_type": "code",
      "execution_count": 21,
      "metadata": {
        "colab": {
          "base_uri": "https://localhost:8080/"
        },
        "id": "g_Hw7YP3_OQ3",
        "outputId": "205df79c-4122-4f05-bd1d-435e16053a37"
      },
      "outputs": [
        {
          "name": "stdout",
          "output_type": "stream",
          "text": [
            "number of unique words :  313\n",
            "output length 101\n"
          ]
        }
      ],
      "source": [
        "vocabulary = len(tokenizer.word_index)\n",
        "print('number of unique words : ', vocabulary)\n",
        "output_length = le.classes_.shape[0]\n",
        "print('output length', output_length)"
      ]
    },
    {
      "cell_type": "code",
      "execution_count": 22,
      "metadata": {
        "id": "r4tlprbJ_r9d"
      },
      "outputs": [],
      "source": [
        "#creating model\n",
        "# i = Input(shape=(input_shape,))\n",
        "# x = Embedding(vocabulary+1,10)(i) #vocabsize, dimensi, input\n",
        "# x = LSTM(10, return_sequences=True)(x)\n",
        "# x = Flatten()(x)\n",
        "# x = Dense(output_length, activation='softmax')(x)\n",
        "# model = Model(i,x)\n",
        "\n",
        "model = Sequential([\n",
        "    Embedding(input_dim=vocabulary+1, output_dim=10, input_length=input_shape),\n",
        "    Bidirectional(LSTM(10)),\n",
        "    Flatten(),\n",
        "    Dense(output_length, activation='softmax')\n",
        "])"
      ]
    },
    {
      "cell_type": "code",
      "execution_count": 23,
      "metadata": {
        "colab": {
          "base_uri": "https://localhost:8080/"
        },
        "id": "TfJAq9stiGnK",
        "outputId": "83a76d80-2b51-463c-aa6d-f5db032e0fdf"
      },
      "outputs": [
        {
          "name": "stdout",
          "output_type": "stream",
          "text": [
            "Model: \"sequential\"\n",
            "_________________________________________________________________\n",
            " Layer (type)                Output Shape              Param #   \n",
            "=================================================================\n",
            " embedding (Embedding)       (None, 7, 10)             3140      \n",
            "                                                                 \n",
            " bidirectional (Bidirectiona  (None, 20)               1680      \n",
            " l)                                                              \n",
            "                                                                 \n",
            " flatten (Flatten)           (None, 20)                0         \n",
            "                                                                 \n",
            " dense (Dense)               (None, 101)               2121      \n",
            "                                                                 \n",
            "=================================================================\n",
            "Total params: 6,941\n",
            "Trainable params: 6,941\n",
            "Non-trainable params: 0\n",
            "_________________________________________________________________\n"
          ]
        }
      ],
      "source": [
        "model.summary()"
      ]
    },
    {
      "cell_type": "code",
      "execution_count": 24,
      "metadata": {
        "id": "NF_IgYDBA6Ba"
      },
      "outputs": [],
      "source": [
        "model.compile(loss='sparse_categorical_crossentropy', optimizer='adam', metrics=['accuracy'])"
      ]
    },
    {
      "cell_type": "code",
      "execution_count": 25,
      "metadata": {
        "colab": {
          "base_uri": "https://localhost:8080/"
        },
        "id": "R13tmyjMBWEY",
        "outputId": "193edea2-6f5f-4847-cb84-33aa95242b2f"
      },
      "outputs": [
        {
          "name": "stdout",
          "output_type": "stream",
          "text": [
            "Epoch 1/200\n"
          ]
        },
        {
          "name": "stdout",
          "output_type": "stream",
          "text": [
            "14/14 [==============================] - 6s 7ms/step - loss: 4.6138 - accuracy: 0.0164\n",
            "Epoch 2/200\n",
            "14/14 [==============================] - 0s 7ms/step - loss: 4.6073 - accuracy: 0.0376\n",
            "Epoch 3/200\n",
            "14/14 [==============================] - 0s 7ms/step - loss: 4.6006 - accuracy: 0.0376\n",
            "Epoch 4/200\n",
            "14/14 [==============================] - 0s 8ms/step - loss: 4.5920 - accuracy: 0.0329\n",
            "Epoch 5/200\n",
            "14/14 [==============================] - 0s 7ms/step - loss: 4.5806 - accuracy: 0.0329\n",
            "Epoch 6/200\n",
            "14/14 [==============================] - 0s 8ms/step - loss: 4.5639 - accuracy: 0.0329\n",
            "Epoch 7/200\n",
            "14/14 [==============================] - 0s 7ms/step - loss: 4.5402 - accuracy: 0.0329\n",
            "Epoch 8/200\n",
            "14/14 [==============================] - 0s 7ms/step - loss: 4.5056 - accuracy: 0.0329\n",
            "Epoch 9/200\n",
            "14/14 [==============================] - 0s 7ms/step - loss: 4.4705 - accuracy: 0.0329\n",
            "Epoch 10/200\n",
            "14/14 [==============================] - 0s 7ms/step - loss: 4.4336 - accuracy: 0.0329\n",
            "Epoch 11/200\n",
            "14/14 [==============================] - 0s 7ms/step - loss: 4.3983 - accuracy: 0.0329\n",
            "Epoch 12/200\n",
            "14/14 [==============================] - 0s 7ms/step - loss: 4.3570 - accuracy: 0.0423\n",
            "Epoch 13/200\n",
            "14/14 [==============================] - 0s 8ms/step - loss: 4.3033 - accuracy: 0.0610\n",
            "Epoch 14/200\n",
            "14/14 [==============================] - 0s 8ms/step - loss: 4.2314 - accuracy: 0.0634\n",
            "Epoch 15/200\n",
            "14/14 [==============================] - 0s 7ms/step - loss: 4.1401 - accuracy: 0.0822\n",
            "Epoch 16/200\n",
            "14/14 [==============================] - 0s 7ms/step - loss: 4.0415 - accuracy: 0.1033\n",
            "Epoch 17/200\n",
            "14/14 [==============================] - 0s 7ms/step - loss: 3.9483 - accuracy: 0.0986\n",
            "Epoch 18/200\n",
            "14/14 [==============================] - 0s 7ms/step - loss: 3.8586 - accuracy: 0.1103\n",
            "Epoch 19/200\n",
            "14/14 [==============================] - 0s 11ms/step - loss: 3.7735 - accuracy: 0.1080\n",
            "Epoch 20/200\n",
            "14/14 [==============================] - 0s 8ms/step - loss: 3.6946 - accuracy: 0.1174\n",
            "Epoch 21/200\n",
            "14/14 [==============================] - 0s 7ms/step - loss: 3.6143 - accuracy: 0.1221\n",
            "Epoch 22/200\n",
            "14/14 [==============================] - 0s 7ms/step - loss: 3.5464 - accuracy: 0.1690\n",
            "Epoch 23/200\n",
            "14/14 [==============================] - 0s 7ms/step - loss: 3.4763 - accuracy: 0.1737\n",
            "Epoch 24/200\n",
            "14/14 [==============================] - 0s 7ms/step - loss: 3.4080 - accuracy: 0.2019\n",
            "Epoch 25/200\n",
            "14/14 [==============================] - 0s 7ms/step - loss: 3.3384 - accuracy: 0.2113\n",
            "Epoch 26/200\n",
            "14/14 [==============================] - 0s 7ms/step - loss: 3.2804 - accuracy: 0.2136\n",
            "Epoch 27/200\n",
            "14/14 [==============================] - 0s 7ms/step - loss: 3.2225 - accuracy: 0.2371\n",
            "Epoch 28/200\n",
            "14/14 [==============================] - 0s 7ms/step - loss: 3.1730 - accuracy: 0.2465\n",
            "Epoch 29/200\n",
            "14/14 [==============================] - 0s 7ms/step - loss: 3.1135 - accuracy: 0.2723\n",
            "Epoch 30/200\n",
            "14/14 [==============================] - 0s 7ms/step - loss: 3.0661 - accuracy: 0.2887\n",
            "Epoch 31/200\n",
            "14/14 [==============================] - 0s 7ms/step - loss: 3.0116 - accuracy: 0.2934\n",
            "Epoch 32/200\n",
            "14/14 [==============================] - 0s 7ms/step - loss: 2.9612 - accuracy: 0.3099\n",
            "Epoch 33/200\n",
            "14/14 [==============================] - 0s 7ms/step - loss: 2.9145 - accuracy: 0.3028\n",
            "Epoch 34/200\n",
            "14/14 [==============================] - 0s 7ms/step - loss: 2.8780 - accuracy: 0.3216\n",
            "Epoch 35/200\n",
            "14/14 [==============================] - 0s 7ms/step - loss: 2.8292 - accuracy: 0.3451\n",
            "Epoch 36/200\n",
            "14/14 [==============================] - 0s 7ms/step - loss: 2.7807 - accuracy: 0.3545\n",
            "Epoch 37/200\n",
            "14/14 [==============================] - 0s 7ms/step - loss: 2.7430 - accuracy: 0.3638\n",
            "Epoch 38/200\n",
            "14/14 [==============================] - 0s 7ms/step - loss: 2.7059 - accuracy: 0.3826\n",
            "Epoch 39/200\n",
            "14/14 [==============================] - 0s 7ms/step - loss: 2.6668 - accuracy: 0.3944\n",
            "Epoch 40/200\n",
            "14/14 [==============================] - 0s 7ms/step - loss: 2.6265 - accuracy: 0.3991\n",
            "Epoch 41/200\n",
            "14/14 [==============================] - 0s 7ms/step - loss: 2.5900 - accuracy: 0.4178\n",
            "Epoch 42/200\n",
            "14/14 [==============================] - 0s 9ms/step - loss: 2.5504 - accuracy: 0.4225\n",
            "Epoch 43/200\n",
            "14/14 [==============================] - 0s 8ms/step - loss: 2.5148 - accuracy: 0.4202\n",
            "Epoch 44/200\n",
            "14/14 [==============================] - 0s 7ms/step - loss: 2.4778 - accuracy: 0.4390\n",
            "Epoch 45/200\n",
            "14/14 [==============================] - 0s 7ms/step - loss: 2.4364 - accuracy: 0.4460\n",
            "Epoch 46/200\n",
            "14/14 [==============================] - 0s 7ms/step - loss: 2.4066 - accuracy: 0.4671\n",
            "Epoch 47/200\n",
            "14/14 [==============================] - 0s 7ms/step - loss: 2.3713 - accuracy: 0.4742\n",
            "Epoch 48/200\n",
            "14/14 [==============================] - 0s 7ms/step - loss: 2.3295 - accuracy: 0.4906\n",
            "Epoch 49/200\n",
            "14/14 [==============================] - 0s 7ms/step - loss: 2.3007 - accuracy: 0.4930\n",
            "Epoch 50/200\n",
            "14/14 [==============================] - 0s 7ms/step - loss: 2.2751 - accuracy: 0.4906\n",
            "Epoch 51/200\n",
            "14/14 [==============================] - 0s 7ms/step - loss: 2.2409 - accuracy: 0.5188\n",
            "Epoch 52/200\n",
            "14/14 [==============================] - 0s 7ms/step - loss: 2.2079 - accuracy: 0.5493\n",
            "Epoch 53/200\n",
            "14/14 [==============================] - 0s 7ms/step - loss: 2.1803 - accuracy: 0.5681\n",
            "Epoch 54/200\n",
            "14/14 [==============================] - 0s 7ms/step - loss: 2.1464 - accuracy: 0.5704\n",
            "Epoch 55/200\n",
            "14/14 [==============================] - 0s 7ms/step - loss: 2.1181 - accuracy: 0.5915\n",
            "Epoch 56/200\n",
            "14/14 [==============================] - 0s 7ms/step - loss: 2.0906 - accuracy: 0.5845\n",
            "Epoch 57/200\n",
            "14/14 [==============================] - 0s 7ms/step - loss: 2.0603 - accuracy: 0.5986\n",
            "Epoch 58/200\n",
            "14/14 [==============================] - 0s 10ms/step - loss: 2.0278 - accuracy: 0.6244\n",
            "Epoch 59/200\n",
            "14/14 [==============================] - 0s 8ms/step - loss: 2.0028 - accuracy: 0.6221\n",
            "Epoch 60/200\n",
            "14/14 [==============================] - 0s 7ms/step - loss: 1.9705 - accuracy: 0.6573\n",
            "Epoch 61/200\n",
            "14/14 [==============================] - 0s 7ms/step - loss: 1.9445 - accuracy: 0.6549\n",
            "Epoch 62/200\n",
            "14/14 [==============================] - 0s 7ms/step - loss: 1.9143 - accuracy: 0.6878\n",
            "Epoch 63/200\n",
            "14/14 [==============================] - 0s 7ms/step - loss: 1.8861 - accuracy: 0.6761\n",
            "Epoch 64/200\n",
            "14/14 [==============================] - 0s 7ms/step - loss: 1.8576 - accuracy: 0.6854\n",
            "Epoch 65/200\n",
            "14/14 [==============================] - 0s 7ms/step - loss: 1.8342 - accuracy: 0.6972\n",
            "Epoch 66/200\n",
            "14/14 [==============================] - 0s 7ms/step - loss: 1.8155 - accuracy: 0.6878\n",
            "Epoch 67/200\n",
            "14/14 [==============================] - 0s 7ms/step - loss: 1.7825 - accuracy: 0.6972\n",
            "Epoch 68/200\n",
            "14/14 [==============================] - 0s 7ms/step - loss: 1.7631 - accuracy: 0.7066\n",
            "Epoch 69/200\n",
            "14/14 [==============================] - 0s 7ms/step - loss: 1.7415 - accuracy: 0.7254\n",
            "Epoch 70/200\n",
            "14/14 [==============================] - 0s 6ms/step - loss: 1.7157 - accuracy: 0.7230\n",
            "Epoch 71/200\n",
            "14/14 [==============================] - 0s 7ms/step - loss: 1.6981 - accuracy: 0.7300\n",
            "Epoch 72/200\n",
            "14/14 [==============================] - 0s 7ms/step - loss: 1.6762 - accuracy: 0.7441\n",
            "Epoch 73/200\n",
            "14/14 [==============================] - 0s 7ms/step - loss: 1.6435 - accuracy: 0.7512\n",
            "Epoch 74/200\n",
            "14/14 [==============================] - 0s 7ms/step - loss: 1.6235 - accuracy: 0.7629\n",
            "Epoch 75/200\n",
            "14/14 [==============================] - 0s 7ms/step - loss: 1.5950 - accuracy: 0.7582\n",
            "Epoch 76/200\n",
            "14/14 [==============================] - 0s 11ms/step - loss: 1.5754 - accuracy: 0.7723\n",
            "Epoch 77/200\n",
            "14/14 [==============================] - 0s 7ms/step - loss: 1.5569 - accuracy: 0.7723\n",
            "Epoch 78/200\n",
            "14/14 [==============================] - 0s 7ms/step - loss: 1.5370 - accuracy: 0.7700\n",
            "Epoch 79/200\n",
            "14/14 [==============================] - 0s 7ms/step - loss: 1.5279 - accuracy: 0.7629\n",
            "Epoch 80/200\n",
            "14/14 [==============================] - 0s 7ms/step - loss: 1.5099 - accuracy: 0.7606\n",
            "Epoch 81/200\n",
            "14/14 [==============================] - 0s 7ms/step - loss: 1.4861 - accuracy: 0.7840\n",
            "Epoch 82/200\n",
            "14/14 [==============================] - 0s 7ms/step - loss: 1.4657 - accuracy: 0.7793\n",
            "Epoch 83/200\n",
            "14/14 [==============================] - 0s 7ms/step - loss: 1.4386 - accuracy: 0.7817\n",
            "Epoch 84/200\n",
            "14/14 [==============================] - 0s 7ms/step - loss: 1.4203 - accuracy: 0.7887\n",
            "Epoch 85/200\n",
            "14/14 [==============================] - 0s 7ms/step - loss: 1.3965 - accuracy: 0.7958\n",
            "Epoch 86/200\n",
            "14/14 [==============================] - 0s 7ms/step - loss: 1.3800 - accuracy: 0.7958\n",
            "Epoch 87/200\n",
            "14/14 [==============================] - 0s 7ms/step - loss: 1.3610 - accuracy: 0.8005\n",
            "Epoch 88/200\n",
            "14/14 [==============================] - 0s 7ms/step - loss: 1.3434 - accuracy: 0.7981\n",
            "Epoch 89/200\n",
            "14/14 [==============================] - 0s 6ms/step - loss: 1.3266 - accuracy: 0.8005\n",
            "Epoch 90/200\n",
            "14/14 [==============================] - 0s 7ms/step - loss: 1.3132 - accuracy: 0.8052\n",
            "Epoch 91/200\n",
            "14/14 [==============================] - 0s 6ms/step - loss: 1.2977 - accuracy: 0.8075\n",
            "Epoch 92/200\n",
            "14/14 [==============================] - 0s 11ms/step - loss: 1.2817 - accuracy: 0.8169\n",
            "Epoch 93/200\n",
            "14/14 [==============================] - 0s 7ms/step - loss: 1.2624 - accuracy: 0.8122\n",
            "Epoch 94/200\n",
            "14/14 [==============================] - 0s 7ms/step - loss: 1.2550 - accuracy: 0.8075\n",
            "Epoch 95/200\n",
            "14/14 [==============================] - 0s 7ms/step - loss: 1.2315 - accuracy: 0.8263\n",
            "Epoch 96/200\n",
            "14/14 [==============================] - 0s 7ms/step - loss: 1.2150 - accuracy: 0.8192\n",
            "Epoch 97/200\n",
            "14/14 [==============================] - 0s 7ms/step - loss: 1.2042 - accuracy: 0.8239\n",
            "Epoch 98/200\n",
            "14/14 [==============================] - 0s 7ms/step - loss: 1.1951 - accuracy: 0.8310\n",
            "Epoch 99/200\n",
            "14/14 [==============================] - 0s 7ms/step - loss: 1.1747 - accuracy: 0.8286\n",
            "Epoch 100/200\n",
            "14/14 [==============================] - 0s 7ms/step - loss: 1.1594 - accuracy: 0.8498\n",
            "Epoch 101/200\n",
            "14/14 [==============================] - 0s 6ms/step - loss: 1.1436 - accuracy: 0.8498\n",
            "Epoch 102/200\n",
            "14/14 [==============================] - 0s 7ms/step - loss: 1.1357 - accuracy: 0.8474\n",
            "Epoch 103/200\n",
            "14/14 [==============================] - 0s 7ms/step - loss: 1.1230 - accuracy: 0.8427\n",
            "Epoch 104/200\n",
            "14/14 [==============================] - 0s 7ms/step - loss: 1.1076 - accuracy: 0.8592\n",
            "Epoch 105/200\n",
            "14/14 [==============================] - 0s 7ms/step - loss: 1.0887 - accuracy: 0.8638\n",
            "Epoch 106/200\n",
            "14/14 [==============================] - 0s 6ms/step - loss: 1.0752 - accuracy: 0.8638\n",
            "Epoch 107/200\n",
            "14/14 [==============================] - 0s 7ms/step - loss: 1.0683 - accuracy: 0.8615\n",
            "Epoch 108/200\n",
            "14/14 [==============================] - 0s 7ms/step - loss: 1.0491 - accuracy: 0.8685\n",
            "Epoch 109/200\n",
            "14/14 [==============================] - 0s 11ms/step - loss: 1.0297 - accuracy: 0.8756\n",
            "Epoch 110/200\n",
            "14/14 [==============================] - 0s 7ms/step - loss: 1.0163 - accuracy: 0.8826\n",
            "Epoch 111/200\n",
            "14/14 [==============================] - 0s 7ms/step - loss: 1.0074 - accuracy: 0.8873\n",
            "Epoch 112/200\n",
            "14/14 [==============================] - 0s 7ms/step - loss: 0.9976 - accuracy: 0.8850\n",
            "Epoch 113/200\n",
            "14/14 [==============================] - 0s 7ms/step - loss: 0.9873 - accuracy: 0.8920\n",
            "Epoch 114/200\n",
            "14/14 [==============================] - 0s 7ms/step - loss: 0.9810 - accuracy: 0.8897\n",
            "Epoch 115/200\n",
            "14/14 [==============================] - 0s 6ms/step - loss: 0.9589 - accuracy: 0.8967\n",
            "Epoch 116/200\n",
            "14/14 [==============================] - 0s 7ms/step - loss: 0.9461 - accuracy: 0.8944\n",
            "Epoch 117/200\n",
            "14/14 [==============================] - 0s 7ms/step - loss: 0.9399 - accuracy: 0.8967\n",
            "Epoch 118/200\n",
            "14/14 [==============================] - 0s 7ms/step - loss: 0.9297 - accuracy: 0.8991\n",
            "Epoch 119/200\n",
            "14/14 [==============================] - 0s 7ms/step - loss: 0.9224 - accuracy: 0.8944\n",
            "Epoch 120/200\n",
            "14/14 [==============================] - 0s 7ms/step - loss: 0.9053 - accuracy: 0.9014\n",
            "Epoch 121/200\n",
            "14/14 [==============================] - 0s 6ms/step - loss: 0.8948 - accuracy: 0.9061\n",
            "Epoch 122/200\n",
            "14/14 [==============================] - 0s 9ms/step - loss: 0.8872 - accuracy: 0.9038\n",
            "Epoch 123/200\n",
            "14/14 [==============================] - 0s 8ms/step - loss: 0.8705 - accuracy: 0.9108\n",
            "Epoch 124/200\n",
            "14/14 [==============================] - 0s 7ms/step - loss: 0.8579 - accuracy: 0.9038\n",
            "Epoch 125/200\n",
            "14/14 [==============================] - 0s 7ms/step - loss: 0.8502 - accuracy: 0.9108\n",
            "Epoch 126/200\n",
            "14/14 [==============================] - 0s 7ms/step - loss: 0.8419 - accuracy: 0.9178\n",
            "Epoch 127/200\n",
            "14/14 [==============================] - 0s 7ms/step - loss: 0.8314 - accuracy: 0.9155\n",
            "Epoch 128/200\n",
            "14/14 [==============================] - 0s 7ms/step - loss: 0.8236 - accuracy: 0.9178\n",
            "Epoch 129/200\n",
            "14/14 [==============================] - 0s 6ms/step - loss: 0.8132 - accuracy: 0.9131\n",
            "Epoch 130/200\n",
            "14/14 [==============================] - 0s 7ms/step - loss: 0.8037 - accuracy: 0.9202\n",
            "Epoch 131/200\n",
            "14/14 [==============================] - 0s 7ms/step - loss: 0.7925 - accuracy: 0.9155\n",
            "Epoch 132/200\n",
            "14/14 [==============================] - 0s 7ms/step - loss: 0.7811 - accuracy: 0.9202\n",
            "Epoch 133/200\n",
            "14/14 [==============================] - 0s 7ms/step - loss: 0.7706 - accuracy: 0.9225\n",
            "Epoch 134/200\n",
            "14/14 [==============================] - 0s 7ms/step - loss: 0.7629 - accuracy: 0.9225\n",
            "Epoch 135/200\n",
            "14/14 [==============================] - 0s 7ms/step - loss: 0.7516 - accuracy: 0.9202\n",
            "Epoch 136/200\n",
            "14/14 [==============================] - 0s 6ms/step - loss: 0.7446 - accuracy: 0.9272\n",
            "Epoch 137/200\n",
            "14/14 [==============================] - 0s 7ms/step - loss: 0.7377 - accuracy: 0.9225\n",
            "Epoch 138/200\n",
            "14/14 [==============================] - 0s 6ms/step - loss: 0.7342 - accuracy: 0.9249\n",
            "Epoch 139/200\n",
            "14/14 [==============================] - 0s 6ms/step - loss: 0.7278 - accuracy: 0.9296\n",
            "Epoch 140/200\n",
            "14/14 [==============================] - 0s 11ms/step - loss: 0.7222 - accuracy: 0.9249\n",
            "Epoch 141/200\n",
            "14/14 [==============================] - 0s 7ms/step - loss: 0.7169 - accuracy: 0.9225\n",
            "Epoch 142/200\n",
            "14/14 [==============================] - 0s 7ms/step - loss: 0.7154 - accuracy: 0.9296\n",
            "Epoch 143/200\n",
            "14/14 [==============================] - 0s 7ms/step - loss: 0.7018 - accuracy: 0.9296\n",
            "Epoch 144/200\n",
            "14/14 [==============================] - 0s 7ms/step - loss: 0.6956 - accuracy: 0.9296\n",
            "Epoch 145/200\n",
            "14/14 [==============================] - 0s 7ms/step - loss: 0.6854 - accuracy: 0.9319\n",
            "Epoch 146/200\n",
            "14/14 [==============================] - 0s 7ms/step - loss: 0.6789 - accuracy: 0.9319\n",
            "Epoch 147/200\n",
            "14/14 [==============================] - 0s 8ms/step - loss: 0.6634 - accuracy: 0.9390\n",
            "Epoch 148/200\n",
            "14/14 [==============================] - 0s 8ms/step - loss: 0.6519 - accuracy: 0.9484\n",
            "Epoch 149/200\n",
            "14/14 [==============================] - 0s 8ms/step - loss: 0.6421 - accuracy: 0.9484\n",
            "Epoch 150/200\n",
            "14/14 [==============================] - 0s 7ms/step - loss: 0.6326 - accuracy: 0.9531\n",
            "Epoch 151/200\n",
            "14/14 [==============================] - 0s 7ms/step - loss: 0.6257 - accuracy: 0.9507\n",
            "Epoch 152/200\n",
            "14/14 [==============================] - 0s 7ms/step - loss: 0.6304 - accuracy: 0.9507\n",
            "Epoch 153/200\n",
            "14/14 [==============================] - 0s 7ms/step - loss: 0.6137 - accuracy: 0.9531\n",
            "Epoch 154/200\n",
            "14/14 [==============================] - 0s 7ms/step - loss: 0.6058 - accuracy: 0.9531\n",
            "Epoch 155/200\n",
            "14/14 [==============================] - 0s 7ms/step - loss: 0.5984 - accuracy: 0.9507\n",
            "Epoch 156/200\n",
            "14/14 [==============================] - 0s 11ms/step - loss: 0.5897 - accuracy: 0.9531\n",
            "Epoch 157/200\n",
            "14/14 [==============================] - 0s 7ms/step - loss: 0.5824 - accuracy: 0.9577\n",
            "Epoch 158/200\n",
            "14/14 [==============================] - 0s 7ms/step - loss: 0.5764 - accuracy: 0.9577\n",
            "Epoch 159/200\n",
            "14/14 [==============================] - 0s 7ms/step - loss: 0.5711 - accuracy: 0.9554\n",
            "Epoch 160/200\n",
            "14/14 [==============================] - 0s 7ms/step - loss: 0.5653 - accuracy: 0.9577\n",
            "Epoch 161/200\n",
            "14/14 [==============================] - 0s 7ms/step - loss: 0.5570 - accuracy: 0.9554\n",
            "Epoch 162/200\n",
            "14/14 [==============================] - 0s 7ms/step - loss: 0.5520 - accuracy: 0.9554\n",
            "Epoch 163/200\n",
            "14/14 [==============================] - 0s 7ms/step - loss: 0.5453 - accuracy: 0.9554\n",
            "Epoch 164/200\n",
            "14/14 [==============================] - 0s 7ms/step - loss: 0.5387 - accuracy: 0.9554\n",
            "Epoch 165/200\n",
            "14/14 [==============================] - 0s 7ms/step - loss: 0.5342 - accuracy: 0.9577\n",
            "Epoch 166/200\n",
            "14/14 [==============================] - 0s 7ms/step - loss: 0.5287 - accuracy: 0.9577\n",
            "Epoch 167/200\n",
            "14/14 [==============================] - 0s 7ms/step - loss: 0.5224 - accuracy: 0.9554\n",
            "Epoch 168/200\n",
            "14/14 [==============================] - 0s 7ms/step - loss: 0.5145 - accuracy: 0.9554\n",
            "Epoch 169/200\n",
            "14/14 [==============================] - 0s 7ms/step - loss: 0.5101 - accuracy: 0.9554\n",
            "Epoch 170/200\n",
            "14/14 [==============================] - 0s 8ms/step - loss: 0.5031 - accuracy: 0.9554\n",
            "Epoch 171/200\n",
            "14/14 [==============================] - 0s 8ms/step - loss: 0.4977 - accuracy: 0.9577\n",
            "Epoch 172/200\n",
            "14/14 [==============================] - 0s 7ms/step - loss: 0.4918 - accuracy: 0.9554\n",
            "Epoch 173/200\n",
            "14/14 [==============================] - 0s 11ms/step - loss: 0.4868 - accuracy: 0.9554\n",
            "Epoch 174/200\n",
            "14/14 [==============================] - 0s 7ms/step - loss: 0.4841 - accuracy: 0.9577\n",
            "Epoch 175/200\n",
            "14/14 [==============================] - 0s 7ms/step - loss: 0.4774 - accuracy: 0.9554\n",
            "Epoch 176/200\n",
            "14/14 [==============================] - 0s 7ms/step - loss: 0.4721 - accuracy: 0.9577\n",
            "Epoch 177/200\n",
            "14/14 [==============================] - 0s 6ms/step - loss: 0.4671 - accuracy: 0.9577\n",
            "Epoch 178/200\n",
            "14/14 [==============================] - 0s 7ms/step - loss: 0.4613 - accuracy: 0.9577\n",
            "Epoch 179/200\n",
            "14/14 [==============================] - 0s 7ms/step - loss: 0.4572 - accuracy: 0.9577\n",
            "Epoch 180/200\n",
            "14/14 [==============================] - 0s 6ms/step - loss: 0.4522 - accuracy: 0.9624\n",
            "Epoch 181/200\n",
            "14/14 [==============================] - 0s 7ms/step - loss: 0.4514 - accuracy: 0.9601\n",
            "Epoch 182/200\n",
            "14/14 [==============================] - 0s 6ms/step - loss: 0.4428 - accuracy: 0.9624\n",
            "Epoch 183/200\n",
            "14/14 [==============================] - 0s 6ms/step - loss: 0.4386 - accuracy: 0.9624\n",
            "Epoch 184/200\n",
            "14/14 [==============================] - 0s 7ms/step - loss: 0.4336 - accuracy: 0.9601\n",
            "Epoch 185/200\n",
            "14/14 [==============================] - 0s 7ms/step - loss: 0.4325 - accuracy: 0.9624\n",
            "Epoch 186/200\n",
            "14/14 [==============================] - 0s 6ms/step - loss: 0.4234 - accuracy: 0.9648\n",
            "Epoch 187/200\n",
            "14/14 [==============================] - 0s 7ms/step - loss: 0.4176 - accuracy: 0.9648\n",
            "Epoch 188/200\n",
            "14/14 [==============================] - 0s 7ms/step - loss: 0.4162 - accuracy: 0.9671\n",
            "Epoch 189/200\n",
            "14/14 [==============================] - 0s 9ms/step - loss: 0.4116 - accuracy: 0.9648\n",
            "Epoch 190/200\n",
            "14/14 [==============================] - 0s 7ms/step - loss: 0.4049 - accuracy: 0.9695\n",
            "Epoch 191/200\n",
            "14/14 [==============================] - 0s 7ms/step - loss: 0.3999 - accuracy: 0.9695\n",
            "Epoch 192/200\n",
            "14/14 [==============================] - 0s 7ms/step - loss: 0.3968 - accuracy: 0.9695\n",
            "Epoch 193/200\n",
            "14/14 [==============================] - 0s 7ms/step - loss: 0.3909 - accuracy: 0.9695\n",
            "Epoch 194/200\n",
            "14/14 [==============================] - 0s 7ms/step - loss: 0.3877 - accuracy: 0.9765\n",
            "Epoch 195/200\n",
            "14/14 [==============================] - 0s 7ms/step - loss: 0.3823 - accuracy: 0.9789\n",
            "Epoch 196/200\n",
            "14/14 [==============================] - 0s 6ms/step - loss: 0.3805 - accuracy: 0.9789\n",
            "Epoch 197/200\n",
            "14/14 [==============================] - 0s 7ms/step - loss: 0.3759 - accuracy: 0.9789\n",
            "Epoch 198/200\n",
            "14/14 [==============================] - 0s 7ms/step - loss: 0.3729 - accuracy: 0.9812\n",
            "Epoch 199/200\n",
            "14/14 [==============================] - 0s 7ms/step - loss: 0.3692 - accuracy: 0.9789\n",
            "Epoch 200/200\n",
            "14/14 [==============================] - 0s 7ms/step - loss: 0.3618 - accuracy: 0.9789\n"
          ]
        }
      ],
      "source": [
        "train = model.fit(x_train, y_train, epochs=200)"
      ]
    },
    {
      "cell_type": "code",
      "execution_count": 26,
      "metadata": {
        "colab": {
          "base_uri": "https://localhost:8080/",
          "height": 448
        },
        "id": "-Ey_DxA_By9U",
        "outputId": "522c2d19-579f-4653-f685-2d6baa60f71e"
      },
      "outputs": [
        {
          "data": {
            "text/plain": [
              "<matplotlib.legend.Legend at 0x2e1c2a51910>"
            ]
          },
          "execution_count": 26,
          "metadata": {},
          "output_type": "execute_result"
        },
        {
          "data": {
            "image/png": "[encoded data removed]",
            "text/plain": [
              "<Figure size 640x480 with 1 Axes>"
            ]
          },
          "metadata": {},
          "output_type": "display_data"
        }
      ],
      "source": [
        "#Model Analysis\n",
        "plt.plot(train.history['accuracy'], label = 'Training set accuracy')\n",
        "plt.plot(train.history['loss'], label = 'Training set loss')\n",
        "plt.legend()"
      ]
    },
    {
      "cell_type": "code",
      "execution_count": 27,
      "metadata": {
        "colab": {
          "background_save": true,
          "base_uri": "https://localhost:8080/"
        },
        "id": "RzORFeWRCnVY",
        "outputId": "23963500-1073-44fc-a712-86ebde6e106d"
      },
      "outputs": [
        {
          "name": "stdout",
          "output_type": "stream",
          "text": [
            "Selamat datang, ada yang ingin ditanyakan?\n",
            "text_p ['beasiswa khusus mahasiswa asal latar ekonomi beasiswa kip kartu indonesia pintar']\n",
            "p1 [[10, 36, 172, 10, 30, 97, 166, 290]]\n",
            "p2 [ 10  36 172  10  30  97 166 290]\n",
            "p3 [[ 10  36 172  10  30  97 166]]\n",
            "1/1 [==============================] - 1s 1s/step\n",
            "1/1 [==============================] - 0s 30ms/step\n",
            "max_prob [9.4266601e-05 9.5971499e-04 1.9308070e-05 7.1159384e-06 3.8985750e-03\n",
            " 6.7511239e-05 7.6686090e-05 5.9404741e-05 3.3927447e-04 2.5485891e-01\n",
            " 7.2047333e-05 1.0137175e-05 1.3775432e-04 4.5664606e-04 8.4412759e-06\n",
            " 1.0259991e-03 7.8786322e-04 1.7044807e-05 5.0538062e-04 9.1060251e-04\n",
            " 1.4134442e-05 2.5475365e-06 5.6461147e-05 4.7731644e-04 2.2792381e-05\n",
            " 2.1854951e-04 8.9254419e-05 1.1273824e-04 3.9710190e-05 1.3958372e-03\n",
            " 2.8082563e-06 3.9347881e-03 7.9352021e-02 2.1695921e-03 9.3660434e-04\n",
            " 2.4640188e-04 2.1929149e-05 6.0530257e-04 2.1534350e-05 2.3159094e-04\n",
            " 2.8787028e-05 2.1157166e-05 4.6996921e-04 4.5394921e-04 2.1042390e-05\n",
            " 5.4847951e-05 1.5082633e-06 5.0396220e-06 9.7485242e-04 2.5977044e-05\n",
            " 5.9373649e-03 7.2208880e-03 3.5873731e-03 1.8032699e-05 1.4696471e-05\n",
            " 2.2847943e-04 4.6499315e-04 3.6257366e-05 1.1610680e-04 3.6631231e-04\n",
            " 1.2396263e-04 7.1404925e-06 1.2995565e-05 4.9631915e-05 5.9238584e-03\n",
            " 4.1918727e-03 2.7118584e-03 1.6483827e-04 2.1281322e-02 3.6291147e-04\n",
            " 2.5069978e-02 2.6339560e-04 1.4129449e-03 3.5025025e-04 3.1362248e-03\n",
            " 5.7478761e-04 3.5324800e-04 2.5167910e-04 1.4502407e-04 3.2365784e-05\n",
            " 5.3167255e-03 5.0356233e-04 1.3072838e-04 4.9905089e-04 3.3916321e-02\n",
            " 2.1551453e-04 2.6370990e-06 2.2549539e-04 1.6379748e-02 2.5237543e-03\n",
            " 4.5328019e-03 8.9971778e-05 2.1955045e-04 4.7677141e-01 2.1888586e-03\n",
            " 2.1309839e-04 6.5522629e-04 1.9438734e-04 1.1632504e-02 2.2986320e-04\n",
            " 2.8262252e-03]\n",
            "out1 [[9.4266601e-05 9.5971499e-04 1.9308070e-05 7.1159384e-06 3.8985750e-03\n",
            "  6.7511239e-05 7.6686090e-05 5.9404741e-05 3.3927447e-04 2.5485891e-01\n",
            "  7.2047333e-05 1.0137175e-05 1.3775432e-04 4.5664606e-04 8.4412759e-06\n",
            "  1.0259991e-03 7.8786322e-04 1.7044807e-05 5.0538062e-04 9.1060251e-04\n",
            "  1.4134442e-05 2.5475365e-06 5.6461147e-05 4.7731644e-04 2.2792381e-05\n",
            "  2.1854951e-04 8.9254419e-05 1.1273824e-04 3.9710190e-05 1.3958372e-03\n",
            "  2.8082563e-06 3.9347881e-03 7.9352021e-02 2.1695921e-03 9.3660434e-04\n",
            "  2.4640188e-04 2.1929149e-05 6.0530257e-04 2.1534350e-05 2.3159094e-04\n",
            "  2.8787028e-05 2.1157166e-05 4.6996921e-04 4.5394921e-04 2.1042390e-05\n",
            "  5.4847951e-05 1.5082633e-06 5.0396220e-06 9.7485242e-04 2.5977044e-05\n",
            "  5.9373649e-03 7.2208880e-03 3.5873731e-03 1.8032699e-05 1.4696471e-05\n",
            "  2.2847943e-04 4.6499315e-04 3.6257366e-05 1.1610680e-04 3.6631231e-04\n",
            "  1.2396263e-04 7.1404925e-06 1.2995565e-05 4.9631915e-05 5.9238584e-03\n",
            "  4.1918727e-03 2.7118584e-03 1.6483827e-04 2.1281322e-02 3.6291147e-04\n",
            "  2.5069978e-02 2.6339560e-04 1.4129449e-03 3.5025025e-04 3.1362248e-03\n",
            "  5.7478761e-04 3.5324800e-04 2.5167910e-04 1.4502407e-04 3.2365784e-05\n",
            "  5.3167255e-03 5.0356233e-04 1.3072838e-04 4.9905089e-04 3.3916321e-02\n",
            "  2.1551453e-04 2.6370990e-06 2.2549539e-04 1.6379748e-02 2.5237543e-03\n",
            "  4.5328019e-03 8.9971778e-05 2.1955045e-04 4.7677141e-01 2.1888586e-03\n",
            "  2.1309839e-04 6.5522629e-04 1.9438734e-04 1.1632504e-02 2.2986320e-04\n",
            "  2.8262252e-03]]\n",
            "maxidx 93\n",
            "out 93\n",
            "nor-reg\n",
            "answer :  Program studi yang membuka kelas karyawan di UMMI tahun 2023: <br> 1. Saintek(Jadwal Sabtu-Minggu) (Teknik Informatika, Teknik Sipil, Kimia) <br> 2. Pertanian (Jadwal Weekend - Weekdays) (Agribisnis, Akuakultur) <br> 3. FIAH (Jadwal Sabtu-Minggu) (Admibistrasi Publik, Administrasi Bisnis) <br> 4. Ekonomi(Akutansi, Manajemen Ritel) <br> 5. Hukum(Hukum)\n",
            "text_p ['terimakasih']\n",
            "p1 [[122]]\n",
            "p2 [122]\n",
            "p3 [[122   0   0   0   0   0   0]]\n",
            "1/1 [==============================] - 0s 40ms/step\n",
            "1/1 [==============================] - 0s 31ms/step\n",
            "max_prob [1.32047819e-04 5.42803464e-05 3.62003957e-05 4.72844840e-06\n",
            " 2.87216576e-03 1.23274163e-04 1.51304368e-04 6.90305533e-05\n",
            " 4.16950003e-04 2.79819686e-02 7.27587076e-06 4.81085499e-06\n",
            " 4.54091933e-05 2.67867490e-05 5.91833043e-07 1.28861298e-04\n",
            " 4.24422287e-05 1.42263809e-06 2.53782991e-06 1.01388250e-04\n",
            " 2.11978440e-05 1.50010680e-06 9.91868583e-05 4.37723752e-03\n",
            " 5.94441844e-05 1.00511978e-04 7.78316098e-06 1.07016785e-04\n",
            " 1.88569720e-05 1.42156741e-05 5.85265205e-08 3.24531051e-04\n",
            " 7.92073843e-04 8.32224847e-04 1.80876174e-04 1.30356406e-04\n",
            " 6.11432415e-06 6.41995156e-03 1.87053010e-05 7.61404226e-04\n",
            " 8.41789515e-05 1.14271916e-05 1.28661441e-07 6.38248050e-04\n",
            " 7.30289867e-06 1.27604275e-04 1.61107266e-07 3.64682080e-07\n",
            " 2.17553647e-03 9.89216460e-06 1.67035396e-04 7.73103721e-03\n",
            " 4.52879249e-05 4.67018617e-05 1.03987641e-05 8.47183037e-05\n",
            " 3.71209026e-05 4.58466784e-05 1.15496368e-05 2.16520903e-06\n",
            " 6.89521257e-05 4.25821190e-06 1.98614288e-07 1.87249170e-05\n",
            " 1.70364324e-02 1.79990183e-03 2.74380000e-04 4.47560778e-05\n",
            " 3.22663363e-05 4.95598579e-06 1.08411035e-03 7.40563963e-04\n",
            " 7.72583371e-06 6.43982446e-07 1.08089662e-04 5.11798717e-04\n",
            " 5.03450428e-05 1.85697121e-04 7.12025894e-07 5.74082605e-06\n",
            " 1.21564817e-05 3.89168476e-04 6.65907137e-05 6.41453837e-04\n",
            " 1.11018517e-03 4.03930870e-04 3.30050568e-07 5.52514648e-05\n",
            " 8.34222198e-01 2.54785176e-02 3.72620709e-02 2.27501660e-05\n",
            " 3.58966121e-04 3.59995291e-04 1.38171017e-04 3.11825318e-07\n",
            " 6.78718877e-08 9.15469645e-05 1.65660772e-02 3.12223798e-03\n",
            " 4.31263243e-06]\n",
            "out1 [[1.32047819e-04 5.42803464e-05 3.62003957e-05 4.72844840e-06\n",
            "  2.87216576e-03 1.23274163e-04 1.51304368e-04 6.90305533e-05\n",
            "  4.16950003e-04 2.79819686e-02 7.27587076e-06 4.81085499e-06\n",
            "  4.54091933e-05 2.67867490e-05 5.91833043e-07 1.28861298e-04\n",
            "  4.24422287e-05 1.42263809e-06 2.53782991e-06 1.01388250e-04\n",
            "  2.11978440e-05 1.50010680e-06 9.91868583e-05 4.37723752e-03\n",
            "  5.94441844e-05 1.00511978e-04 7.78316098e-06 1.07016785e-04\n",
            "  1.88569720e-05 1.42156741e-05 5.85265205e-08 3.24531051e-04\n",
            "  7.92073843e-04 8.32224847e-04 1.80876174e-04 1.30356406e-04\n",
            "  6.11432415e-06 6.41995156e-03 1.87053010e-05 7.61404226e-04\n",
            "  8.41789515e-05 1.14271916e-05 1.28661441e-07 6.38248050e-04\n",
            "  7.30289867e-06 1.27604275e-04 1.61107266e-07 3.64682080e-07\n",
            "  2.17553647e-03 9.89216460e-06 1.67035396e-04 7.73103721e-03\n",
            "  4.52879249e-05 4.67018617e-05 1.03987641e-05 8.47183037e-05\n",
            "  3.71209026e-05 4.58466784e-05 1.15496368e-05 2.16520903e-06\n",
            "  6.89521257e-05 4.25821190e-06 1.98614288e-07 1.87249170e-05\n",
            "  1.70364324e-02 1.79990183e-03 2.74380000e-04 4.47560778e-05\n",
            "  3.22663363e-05 4.95598579e-06 1.08411035e-03 7.40563963e-04\n",
            "  7.72583371e-06 6.43982446e-07 1.08089662e-04 5.11798717e-04\n",
            "  5.03450428e-05 1.85697121e-04 7.12025894e-07 5.74082605e-06\n",
            "  1.21564817e-05 3.89168476e-04 6.65907137e-05 6.41453837e-04\n",
            "  1.11018517e-03 4.03930870e-04 3.30050568e-07 5.52514648e-05\n",
            "  8.34222198e-01 2.54785176e-02 3.72620709e-02 2.27501660e-05\n",
            "  3.58966121e-04 3.59995291e-04 1.38171017e-04 3.11825318e-07\n",
            "  6.78718877e-08 9.15469645e-05 1.65660772e-02 3.12223798e-03\n",
            "  4.31263243e-06]]\n",
            "maxidx 88\n",
            "out 88\n",
            "bye\n",
            "answer :  Kalau ada masalah, hubungi aku lagi ya\n"
          ]
        }
      ],
      "source": [
        "#testing\n",
        "import random\n",
        "import numpy as np\n",
        "import string\n",
        "\n",
        "print(\"Selamat datang, ada yang ingin ditanyakan?\")\n",
        "while True:\n",
        "  texts_p = []\n",
        "  prediction_input = input('you : ')\n",
        "  #removing punctuation\n",
        "  prediction_input = [letters.lower() for letters in prediction_input if letters not in string.punctuation]\n",
        "  prediction_input = ''.join(prediction_input)\n",
        "  prediction_input = text_preprocessing_process(prediction_input)\n",
        "  texts_p.append(prediction_input)\n",
        "\n",
        "  print(\"text_p\",texts_p)\n",
        "  #tokenizing and padding\n",
        "  prediction_input = tokenizer.texts_to_sequences(texts_p)\n",
        "  print(\"p1\",prediction_input)\n",
        "  prediction_input = np.array(prediction_input).reshape(-1)\n",
        "  print('p2',prediction_input)\n",
        "  prediction_input = pad_sequences([prediction_input],input_shape, padding=padding_type, truncating=trunc_type)\n",
        "  print('p3',prediction_input)\n",
        "\n",
        "\n",
        "  #output\n",
        "  output = model.predict(prediction_input)\n",
        "  max_prob = max(model.predict(prediction_input))\n",
        "  print('max_prob', max_prob)\n",
        "  print('out1',output)\n",
        "  max_idx = np.argmax(output)\n",
        "  print('maxidx', max_idx)\n",
        "  output = output.argmax()\n",
        "  print('out',output)\n",
        "\n",
        "\n",
        "  #finding the right tag and predicting\n",
        "  if sum(np.array(prediction_input).reshape(-1)) < 1:\n",
        "    print(\"Maaf saya tidak mengerti\")\n",
        "  else:\n",
        "    response_tag = le.inverse_transform([output])[0]\n",
        "    print(response_tag)\n",
        "    print(\"answer : \" ,random.choice(responses[response_tag]))\n",
        "  if response_tag == 'bye':\n",
        "    break\n",
        "\n",
        "\n"
      ]
    },
    {
      "cell_type": "code",
      "execution_count": 28,
      "metadata": {
        "id": "qestoydg4UBS"
      },
      "outputs": [],
      "source": [
        "#pickle.dump(model, open('model.pkl', 'wb'))"
      ]
    },
    {
      "cell_type": "code",
      "execution_count": null,
      "metadata": {
        "id": "ANKMSC4JjHRA"
      },
      "outputs": [],
      "source": []
    },
    {
      "cell_type": "code",
      "execution_count": 29,
      "metadata": {
        "id": "XCaBJCuoDgyk"
      },
      "outputs": [],
      "source": [
        "#model.save(\"chat_model\")"
      ]
    },
    {
      "cell_type": "code",
      "execution_count": 30,
      "metadata": {},
      "outputs": [
        {
          "name": "stdout",
          "output_type": "stream",
          "text": [
            "1/1 [==============================] - 0s 72ms/step\n",
            "Representasi Teks:\n",
            "[[[ 0.0271746  -0.01388965  0.04970212  0.00099305  0.01578298\n",
            "   -0.03087476 -0.03044762  0.04544604  0.0145372   0.00603244]\n",
            "  [ 0.04030636 -0.00835653  0.04774607 -0.01752468  0.02100911\n",
            "   -0.01548517  0.03869387  0.03366816 -0.02815311 -0.04288037]\n",
            "  [-0.04677103 -0.00483539  0.03072976 -0.04897115 -0.04106677\n",
            "   -0.02521222 -0.00312997  0.03835069 -0.04686505 -0.03426092]\n",
            "  [ 0.0381225  -0.04895562  0.03300161  0.03486792  0.03235448\n",
            "   -0.02310358 -0.00624539  0.00861027  0.02985782  0.03518771]\n",
            "  [ 0.03783439  0.00604381 -0.04441028  0.00545185 -0.04104888\n",
            "   -0.02358576 -0.04518035 -0.02734341  0.00394312  0.03543533]\n",
            "  [ 0.02207914  0.04454098  0.01373709 -0.01032069  0.03991211\n",
            "   -0.04211561 -0.02669528  0.01848837 -0.01784427 -0.01674648]\n",
            "  [ 0.02965374  0.0394134   0.00217264 -0.0416334   0.03368691\n",
            "   -0.02156303 -0.00444321  0.0032645   0.04325571 -0.03983271]]]\n",
            "Shape: (1, 7, 10)\n"
          ]
        }
      ],
      "source": [
        "import tensorflow as tf\n",
        "import numpy as np\n",
        "\n",
        "# Data teks\n",
        "texts = [\"Ini adalah contoh\", \"Teks simulasi\", \"Layer Embedding\"]\n",
        "\n",
        "# Membuat kamus kata (vocabulary)\n",
        "vocab = set()\n",
        "for text in texts:\n",
        "    for word in text.split():\n",
        "        vocab.add(word)\n",
        "vocab_size = len(vocab)\n",
        "\n",
        "# Menginisialisasi model Sequential\n",
        "model = tf.keras.Sequential()\n",
        "\n",
        "# Menambahkan layer Embedding\n",
        "model.add(tf.keras.layers.Embedding(input_dim=vocab_size, output_dim=10, input_length=None))\n",
        "\n",
        "# Mengkompilasi model\n",
        "model.compile(optimizer='adam', loss='mse')\n",
        "\n",
        "# Mengubah teks menjadi representasi numerik menggunakan layer Embedding\n",
        "embedded_texts = model.predict(np.arange(vocab_size).reshape(1, -1))\n",
        "\n",
        "print(\"Representasi Teks:\")\n",
        "print(embedded_texts)\n",
        "print(\"Shape:\", embedded_texts.shape)\n"
      ]
    },
    {
      "cell_type": "code",
      "execution_count": null,
      "metadata": {},
      "outputs": [],
      "source": []
    }
  ],
  "metadata": {
    "colab": {
      "provenance": []
    },
    "kernelspec": {
      "display_name": "Python 3",
      "name": "python3"
    },
    "language_info": {
      "codemirror_mode": {
        "name": "ipython",
        "version": 3
      },
      "file_extension": ".py",
      "mimetype": "text/x-python",
      "name": "python",
      "nbconvert_exporter": "python",
      "pygments_lexer": "ipython3",
      "version": "3.9.13"
    }
  },
  "nbformat": 4,
  "nbformat_minor": 0
}
